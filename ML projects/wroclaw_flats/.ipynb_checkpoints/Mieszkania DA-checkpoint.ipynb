{
 "cells": [
  {
   "cell_type": "markdown",
   "metadata": {
    "colab_type": "text",
    "id": "K481EZNaj_FL"
   },
   "source": [
    "## Załadowanie danych na Colaba"
   ]
  },
  {
   "cell_type": "code",
   "execution_count": 1,
   "metadata": {
    "colab": {},
    "colab_type": "code",
    "id": "O44OPG-5kfQ1"
   },
   "outputs": [],
   "source": [
    "import pandas as pd\n",
    "import numpy as np\n",
    "\n",
    "try:\n",
    "    from google.colab import drive\n",
    "    drive.mount('/content/gdrive')\n",
    "    \n",
    "    import sys\n",
    "    sys.path.append('/content/gdrive/My Drive/Mieszkania_Wrocław')\n",
    "\n",
    "except ModuleNotFoundError:\n",
    "    pass\n",
    " \n",
    "from functions.eda.change_df import (\n",
    "  repair_time,\n",
    "  add_column_with_status,\n",
    "  unify_buildings,\n",
    "  delete_euro_offers,\n",
    "  unify_price,\n",
    "  unify_location,\n",
    "  unify_dealer,\n",
    "  unify_rooms,\n",
    "  unify_floor,\n",
    "  binarize_furnished,\n",
    "  delete_outliers,\n",
    "  delete_columns\n",
    ")\n",
    "from functions.eda.plots import(\n",
    "    olx_histograms, \n",
    "    plot_histograms,\n",
    "    plot_heatmap,\n",
    "    plot_custom_scatter,\n",
    "    compare_predictions_with_real,\n",
    "    my_residual_plot,\n",
    "    plot_feature_importance,\n",
    "    interactive_regression_tree\n",
    ")\n",
    "from functions.eda.encoder import encode_implement_all\n",
    "from functions.eda.print_unique import print_unique\n",
    "from functions.models.my_train_test_split import my_train_test_split\n",
    "%matplotlib inline"
   ]
  },
  {
   "cell_type": "code",
   "execution_count": 2,
   "metadata": {
    "colab": {},
    "colab_type": "code",
    "id": "HLNPApipP65Q"
   },
   "outputs": [],
   "source": [
    "data = pd.read_csv('data/data.csv')"
   ]
  },
  {
   "cell_type": "code",
   "execution_count": 3,
   "metadata": {
    "colab": {
     "base_uri": "https://localhost:8080/",
     "height": 306
    },
    "colab_type": "code",
    "executionInfo": {
     "elapsed": 38597,
     "status": "ok",
     "timestamp": 1575381503064,
     "user": {
      "displayName": "Miłosz Gajowczyk",
      "photoUrl": "",
      "userId": "15994105115221921716"
     },
     "user_tz": -60
    },
    "id": "x9pGkvfYXxL2",
    "outputId": "0c6ada25-719f-41a8-dddb-b00d944b5f7c"
   },
   "outputs": [
    {
     "data": {
      "text/html": [
       "<div>\n",
       "<style scoped>\n",
       "    .dataframe tbody tr th:only-of-type {\n",
       "        vertical-align: middle;\n",
       "    }\n",
       "\n",
       "    .dataframe tbody tr th {\n",
       "        vertical-align: top;\n",
       "    }\n",
       "\n",
       "    .dataframe thead th {\n",
       "        text-align: right;\n",
       "    }\n",
       "</style>\n",
       "<table border=\"1\" class=\"dataframe\">\n",
       "  <thead>\n",
       "    <tr style=\"text-align: right;\">\n",
       "      <th></th>\n",
       "      <th>Price</th>\n",
       "      <th>Rent</th>\n",
       "      <th>Area</th>\n",
       "      <th>Rooms</th>\n",
       "      <th>Floor</th>\n",
       "      <th>Location</th>\n",
       "      <th>Dealer</th>\n",
       "      <th>Building</th>\n",
       "      <th>Furnished</th>\n",
       "      <th>Dishwasher</th>\n",
       "      <th>Elevator</th>\n",
       "      <th>Balcony</th>\n",
       "      <th>Popularity</th>\n",
       "      <th>Time</th>\n",
       "      <th>Date</th>\n",
       "      <th>Title</th>\n",
       "      <th>Id_number</th>\n",
       "      <th>Link</th>\n",
       "    </tr>\n",
       "  </thead>\n",
       "  <tbody>\n",
       "    <tr>\n",
       "      <th>0</th>\n",
       "      <td>1 450 zł</td>\n",
       "      <td>430 zł</td>\n",
       "      <td>42 m²</td>\n",
       "      <td>2 pokoje</td>\n",
       "      <td>1</td>\n",
       "      <td>Wrocław, Dolnośląskie, Krzyki</td>\n",
       "      <td>Osoby prywatnej</td>\n",
       "      <td>Blok</td>\n",
       "      <td>Tak</td>\n",
       "      <td>0</td>\n",
       "      <td>0</td>\n",
       "      <td>1</td>\n",
       "      <td>3078.0</td>\n",
       "      <td>2</td>\n",
       "      <td>13.10.2019</td>\n",
       "      <td>Wrocław przytulne mieszkanie do wynajęcia od 0...</td>\n",
       "      <td>537053084</td>\n",
       "      <td>https://www.olx.pl/oferta/wroclaw-przytulne-mi...</td>\n",
       "    </tr>\n",
       "    <tr>\n",
       "      <th>1</th>\n",
       "      <td>2 000 zł</td>\n",
       "      <td>500 zł</td>\n",
       "      <td>50 m²</td>\n",
       "      <td>2 pokoje</td>\n",
       "      <td>5</td>\n",
       "      <td>Wrocław, Dolnośląskie, Fabryczna</td>\n",
       "      <td>Osoby prywatnej</td>\n",
       "      <td>Blok</td>\n",
       "      <td>Tak</td>\n",
       "      <td>0</td>\n",
       "      <td>1</td>\n",
       "      <td>1</td>\n",
       "      <td>359.0</td>\n",
       "      <td>22</td>\n",
       "      <td>14.10.2019</td>\n",
       "      <td>Eleganckie i stylowe mieszkanie</td>\n",
       "      <td>561452516</td>\n",
       "      <td>https://www.olx.pl/oferta/eleganckie-i-stylowe...</td>\n",
       "    </tr>\n",
       "    <tr>\n",
       "      <th>2</th>\n",
       "      <td>2 000 zł</td>\n",
       "      <td>700 zł</td>\n",
       "      <td>68 m²</td>\n",
       "      <td>2 pokoje</td>\n",
       "      <td>3</td>\n",
       "      <td>Wrocław, Dolnośląskie, Śródmieście</td>\n",
       "      <td>Biuro / Deweloper</td>\n",
       "      <td>Kamienica</td>\n",
       "      <td>Tak</td>\n",
       "      <td>0</td>\n",
       "      <td>0</td>\n",
       "      <td>1</td>\n",
       "      <td>302.0</td>\n",
       "      <td>30</td>\n",
       "      <td>9.10.2019</td>\n",
       "      <td>Sienkiewicza Śródmieście - 2 duże pokoje</td>\n",
       "      <td>561000259</td>\n",
       "      <td>https://www.olx.pl/oferta/sienkiewicza-srodmie...</td>\n",
       "    </tr>\n",
       "    <tr>\n",
       "      <th>3</th>\n",
       "      <td>1 950 zł</td>\n",
       "      <td>550 zł</td>\n",
       "      <td>45 m²</td>\n",
       "      <td>2 pokoje</td>\n",
       "      <td>1</td>\n",
       "      <td>Wrocław, Dolnośląskie, Stare Miasto</td>\n",
       "      <td>Osoby prywatnej</td>\n",
       "      <td>Apartamentowiec</td>\n",
       "      <td>Tak</td>\n",
       "      <td>0</td>\n",
       "      <td>0</td>\n",
       "      <td>0</td>\n",
       "      <td>10045.0</td>\n",
       "      <td>9</td>\n",
       "      <td>15.10.2019</td>\n",
       "      <td>Apartament wynajme bez pośredników</td>\n",
       "      <td>545010013</td>\n",
       "      <td>https://www.olx.pl/oferta/apartament-wynajme-b...</td>\n",
       "    </tr>\n",
       "    <tr>\n",
       "      <th>4</th>\n",
       "      <td>2 000 zł</td>\n",
       "      <td>500 zł</td>\n",
       "      <td>38 m²</td>\n",
       "      <td>2 pokoje</td>\n",
       "      <td>2</td>\n",
       "      <td>Wrocław, Dolnośląskie, Stare Miasto</td>\n",
       "      <td>Osoby prywatnej</td>\n",
       "      <td>Apartamentowiec</td>\n",
       "      <td>Tak</td>\n",
       "      <td>1</td>\n",
       "      <td>1</td>\n",
       "      <td>0</td>\n",
       "      <td>1179.0</td>\n",
       "      <td>0</td>\n",
       "      <td>15.10.2019</td>\n",
       "      <td>Mieszkanie na wynajem</td>\n",
       "      <td>555813029</td>\n",
       "      <td>https://www.olx.pl/oferta/mieszkanie-na-wynaje...</td>\n",
       "    </tr>\n",
       "  </tbody>\n",
       "</table>\n",
       "</div>"
      ],
      "text/plain": [
       "      Price    Rent   Area     Rooms Floor  \\\n",
       "0  1 450 zł  430 zł  42 m²  2 pokoje     1   \n",
       "1  2 000 zł  500 zł  50 m²  2 pokoje     5   \n",
       "2  2 000 zł  700 zł  68 m²  2 pokoje     3   \n",
       "3  1 950 zł  550 zł  45 m²  2 pokoje     1   \n",
       "4  2 000 zł  500 zł  38 m²  2 pokoje     2   \n",
       "\n",
       "                              Location             Dealer         Building  \\\n",
       "0        Wrocław, Dolnośląskie, Krzyki    Osoby prywatnej             Blok   \n",
       "1     Wrocław, Dolnośląskie, Fabryczna    Osoby prywatnej             Blok   \n",
       "2   Wrocław, Dolnośląskie, Śródmieście  Biuro / Deweloper        Kamienica   \n",
       "3  Wrocław, Dolnośląskie, Stare Miasto    Osoby prywatnej  Apartamentowiec   \n",
       "4  Wrocław, Dolnośląskie, Stare Miasto    Osoby prywatnej  Apartamentowiec   \n",
       "\n",
       "  Furnished  Dishwasher  Elevator  Balcony  Popularity  Time        Date  \\\n",
       "0       Tak           0         0        1      3078.0     2  13.10.2019   \n",
       "1       Tak           0         1        1       359.0    22  14.10.2019   \n",
       "2       Tak           0         0        1       302.0    30   9.10.2019   \n",
       "3       Tak           0         0        0     10045.0     9  15.10.2019   \n",
       "4       Tak           1         1        0      1179.0     0  15.10.2019   \n",
       "\n",
       "                                               Title  Id_number  \\\n",
       "0  Wrocław przytulne mieszkanie do wynajęcia od 0...  537053084   \n",
       "1                    Eleganckie i stylowe mieszkanie  561452516   \n",
       "2           Sienkiewicza Śródmieście - 2 duże pokoje  561000259   \n",
       "3                 Apartament wynajme bez pośredników  545010013   \n",
       "4                              Mieszkanie na wynajem  555813029   \n",
       "\n",
       "                                                Link  \n",
       "0  https://www.olx.pl/oferta/wroclaw-przytulne-mi...  \n",
       "1  https://www.olx.pl/oferta/eleganckie-i-stylowe...  \n",
       "2  https://www.olx.pl/oferta/sienkiewicza-srodmie...  \n",
       "3  https://www.olx.pl/oferta/apartament-wynajme-b...  \n",
       "4  https://www.olx.pl/oferta/mieszkanie-na-wynaje...  "
      ]
     },
     "execution_count": 3,
     "metadata": {},
     "output_type": "execute_result"
    }
   ],
   "source": [
    "data.head()"
   ]
  },
  {
   "cell_type": "code",
   "execution_count": 4,
   "metadata": {
    "colab": {
     "base_uri": "https://localhost:8080/",
     "height": 374
    },
    "colab_type": "code",
    "executionInfo": {
     "elapsed": 38587,
     "status": "ok",
     "timestamp": 1575381503065,
     "user": {
      "displayName": "Miłosz Gajowczyk",
      "photoUrl": "",
      "userId": "15994105115221921716"
     },
     "user_tz": -60
    },
    "id": "ct2TFqH5f4LR",
    "outputId": "6b1494ed-c5a8-4152-d7a3-b6be509b27d8"
   },
   "outputs": [
    {
     "data": {
      "text/html": [
       "<div>\n",
       "<style scoped>\n",
       "    .dataframe tbody tr th:only-of-type {\n",
       "        vertical-align: middle;\n",
       "    }\n",
       "\n",
       "    .dataframe tbody tr th {\n",
       "        vertical-align: top;\n",
       "    }\n",
       "\n",
       "    .dataframe thead th {\n",
       "        text-align: right;\n",
       "    }\n",
       "</style>\n",
       "<table border=\"1\" class=\"dataframe\">\n",
       "  <thead>\n",
       "    <tr style=\"text-align: right;\">\n",
       "      <th></th>\n",
       "      <th>Price</th>\n",
       "      <th>Rent</th>\n",
       "      <th>Area</th>\n",
       "      <th>Rooms</th>\n",
       "      <th>Floor</th>\n",
       "      <th>Location</th>\n",
       "      <th>Dealer</th>\n",
       "      <th>Building</th>\n",
       "      <th>Furnished</th>\n",
       "      <th>Dishwasher</th>\n",
       "      <th>Elevator</th>\n",
       "      <th>Balcony</th>\n",
       "      <th>Popularity</th>\n",
       "      <th>Time</th>\n",
       "      <th>Date</th>\n",
       "      <th>Title</th>\n",
       "      <th>Id_number</th>\n",
       "      <th>Link</th>\n",
       "    </tr>\n",
       "  </thead>\n",
       "  <tbody>\n",
       "    <tr>\n",
       "      <th>6387</th>\n",
       "      <td>2 600 zł</td>\n",
       "      <td>2 600 zł</td>\n",
       "      <td>50 m²</td>\n",
       "      <td>2 pokoje</td>\n",
       "      <td>Powyżej 10</td>\n",
       "      <td>Wrocław, Dolnośląskie, Krzyki</td>\n",
       "      <td>Osoby prywatnej</td>\n",
       "      <td>Apartamentowiec</td>\n",
       "      <td>Tak</td>\n",
       "      <td>1</td>\n",
       "      <td>0</td>\n",
       "      <td>1</td>\n",
       "      <td>31.0</td>\n",
       "      <td>0</td>\n",
       "      <td>6.12.2019</td>\n",
       "      <td>Dwupokojowy apartament Odra Tower Podwale 15 p</td>\n",
       "      <td>543498672</td>\n",
       "      <td>https://www.olx.pl/oferta/dwupokojowy-apartame...</td>\n",
       "    </tr>\n",
       "    <tr>\n",
       "      <th>6388</th>\n",
       "      <td>3 000 zł</td>\n",
       "      <td>1 zł</td>\n",
       "      <td>64 m²</td>\n",
       "      <td>3 pokoje</td>\n",
       "      <td>6</td>\n",
       "      <td>Wrocław, Dolnośląskie, Śródmieście</td>\n",
       "      <td>Osoby prywatnej</td>\n",
       "      <td>Blok</td>\n",
       "      <td>Tak</td>\n",
       "      <td>0</td>\n",
       "      <td>1</td>\n",
       "      <td>0</td>\n",
       "      <td>860.0</td>\n",
       "      <td>0</td>\n",
       "      <td>6.12.2019</td>\n",
       "      <td>Mieszkanie idealne dla studentow lub grupy prz...</td>\n",
       "      <td>558501752</td>\n",
       "      <td>https://www.olx.pl/oferta/mieszkanie-idealne-d...</td>\n",
       "    </tr>\n",
       "    <tr>\n",
       "      <th>6389</th>\n",
       "      <td>1 450 zł</td>\n",
       "      <td>250 zł</td>\n",
       "      <td>30 m²</td>\n",
       "      <td>Kawalerka</td>\n",
       "      <td>3</td>\n",
       "      <td>Wrocław, Dolnośląskie, Stare Miasto</td>\n",
       "      <td>Osoby prywatnej</td>\n",
       "      <td>Kamienica</td>\n",
       "      <td>Tak</td>\n",
       "      <td>0</td>\n",
       "      <td>0</td>\n",
       "      <td>0</td>\n",
       "      <td>171.0</td>\n",
       "      <td>0</td>\n",
       "      <td>6.12.2019</td>\n",
       "      <td>Kawalerka w centrum, Grabiszyńska - Pereca</td>\n",
       "      <td>572912964</td>\n",
       "      <td>https://www.olx.pl/oferta/kawalerka-w-centrum-...</td>\n",
       "    </tr>\n",
       "    <tr>\n",
       "      <th>6390</th>\n",
       "      <td>1 000 zł</td>\n",
       "      <td>180 zł</td>\n",
       "      <td>20 m²</td>\n",
       "      <td>Kawalerka</td>\n",
       "      <td>2</td>\n",
       "      <td>Wrocław, Dolnośląskie, Krzyki</td>\n",
       "      <td>Osoby prywatnej</td>\n",
       "      <td>Blok</td>\n",
       "      <td>Tak</td>\n",
       "      <td>0</td>\n",
       "      <td>0</td>\n",
       "      <td>0</td>\n",
       "      <td>279.0</td>\n",
       "      <td>0</td>\n",
       "      <td>6.12.2019</td>\n",
       "      <td>Kawalerka na Krzykach</td>\n",
       "      <td>572912148</td>\n",
       "      <td>https://www.olx.pl/oferta/kawalerka-na-krzykac...</td>\n",
       "    </tr>\n",
       "    <tr>\n",
       "      <th>6391</th>\n",
       "      <td>2 000 zł</td>\n",
       "      <td>400 zł</td>\n",
       "      <td>40 m²</td>\n",
       "      <td>2 pokoje</td>\n",
       "      <td>1</td>\n",
       "      <td>Wrocław, Dolnośląskie, Fabryczna</td>\n",
       "      <td>Biuro / Deweloper</td>\n",
       "      <td>Apartamentowiec</td>\n",
       "      <td>Tak</td>\n",
       "      <td>0</td>\n",
       "      <td>0</td>\n",
       "      <td>0</td>\n",
       "      <td>106.0</td>\n",
       "      <td>0</td>\n",
       "      <td>6.12.2019</td>\n",
       "      <td>Nowe mieszkanie Wroclaw wynajem</td>\n",
       "      <td>572908374</td>\n",
       "      <td>https://www.olx.pl/oferta/nowe-mieszkanie-wroc...</td>\n",
       "    </tr>\n",
       "  </tbody>\n",
       "</table>\n",
       "</div>"
      ],
      "text/plain": [
       "         Price      Rent   Area      Rooms       Floor  \\\n",
       "6387  2 600 zł  2 600 zł  50 m²   2 pokoje  Powyżej 10   \n",
       "6388  3 000 zł      1 zł  64 m²   3 pokoje           6   \n",
       "6389  1 450 zł    250 zł  30 m²  Kawalerka           3   \n",
       "6390  1 000 zł    180 zł  20 m²  Kawalerka           2   \n",
       "6391  2 000 zł    400 zł  40 m²   2 pokoje           1   \n",
       "\n",
       "                                 Location             Dealer         Building  \\\n",
       "6387        Wrocław, Dolnośląskie, Krzyki    Osoby prywatnej  Apartamentowiec   \n",
       "6388   Wrocław, Dolnośląskie, Śródmieście    Osoby prywatnej             Blok   \n",
       "6389  Wrocław, Dolnośląskie, Stare Miasto    Osoby prywatnej        Kamienica   \n",
       "6390        Wrocław, Dolnośląskie, Krzyki    Osoby prywatnej             Blok   \n",
       "6391     Wrocław, Dolnośląskie, Fabryczna  Biuro / Deweloper  Apartamentowiec   \n",
       "\n",
       "     Furnished  Dishwasher  Elevator  Balcony  Popularity  Time       Date  \\\n",
       "6387       Tak           1         0        1        31.0     0  6.12.2019   \n",
       "6388       Tak           0         1        0       860.0     0  6.12.2019   \n",
       "6389       Tak           0         0        0       171.0     0  6.12.2019   \n",
       "6390       Tak           0         0        0       279.0     0  6.12.2019   \n",
       "6391       Tak           0         0        0       106.0     0  6.12.2019   \n",
       "\n",
       "                                                  Title  Id_number  \\\n",
       "6387     Dwupokojowy apartament Odra Tower Podwale 15 p  543498672   \n",
       "6388  Mieszkanie idealne dla studentow lub grupy prz...  558501752   \n",
       "6389         Kawalerka w centrum, Grabiszyńska - Pereca  572912964   \n",
       "6390                              Kawalerka na Krzykach  572912148   \n",
       "6391                    Nowe mieszkanie Wroclaw wynajem  572908374   \n",
       "\n",
       "                                                   Link  \n",
       "6387  https://www.olx.pl/oferta/dwupokojowy-apartame...  \n",
       "6388  https://www.olx.pl/oferta/mieszkanie-idealne-d...  \n",
       "6389  https://www.olx.pl/oferta/kawalerka-w-centrum-...  \n",
       "6390  https://www.olx.pl/oferta/kawalerka-na-krzykac...  \n",
       "6391  https://www.olx.pl/oferta/nowe-mieszkanie-wroc...  "
      ]
     },
     "execution_count": 4,
     "metadata": {},
     "output_type": "execute_result"
    }
   ],
   "source": [
    "data.tail()"
   ]
  },
  {
   "cell_type": "markdown",
   "metadata": {
    "colab_type": "text",
    "id": "b2KefPmp0mTU"
   },
   "source": [
    "### Naprawa przekłamań w kolumnie Time"
   ]
  },
  {
   "cell_type": "code",
   "execution_count": 5,
   "metadata": {
    "colab": {
     "base_uri": "https://localhost:8080/",
     "height": 54
    },
    "colab_type": "code",
    "executionInfo": {
     "elapsed": 38947,
     "status": "ok",
     "timestamp": 1575381503435,
     "user": {
      "displayName": "Miłosz Gajowczyk",
      "photoUrl": "",
      "userId": "15994105115221921716"
     },
     "user_tz": -60
    },
    "id": "-p-qTeRF0uej",
    "outputId": "418f3af9-6983-4835-eba5-05afe319ee4a"
   },
   "outputs": [
    {
     "ename": "ConnectionError",
     "evalue": "HTTPSConnectionPool(host='www.otodom.pl', port=443): Max retries exceeded with url: /oferta/apartament-2-pok-pierwszy-najem-bulwary-ksiazece-ID3OSBq.html (Caused by NewConnectionError('<urllib3.connection.VerifiedHTTPSConnection object at 0x00000185B1386748>: Failed to establish a new connection: [WinError 10060] A connection attempt failed because the connected party did not properly respond after a period of time, or established connection failed because connected host has failed to respond',))",
     "output_type": "error",
     "traceback": [
      "\u001b[1;31m---------------------------------------------------------------------------\u001b[0m",
      "\u001b[1;31mTimeoutError\u001b[0m                              Traceback (most recent call last)",
      "\u001b[1;32m~\\AppData\\Local\\Programs\\Python\\Python36\\lib\\urllib3\\connection.py\u001b[0m in \u001b[0;36m_new_conn\u001b[1;34m(self)\u001b[0m\n\u001b[0;32m    159\u001b[0m             conn = connection.create_connection(\n\u001b[1;32m--> 160\u001b[1;33m                 (self._dns_host, self.port), self.timeout, **extra_kw)\n\u001b[0m\u001b[0;32m    161\u001b[0m \u001b[1;33m\u001b[0m\u001b[0m\n",
      "\u001b[1;32m~\\AppData\\Local\\Programs\\Python\\Python36\\lib\\urllib3\\util\\connection.py\u001b[0m in \u001b[0;36mcreate_connection\u001b[1;34m(address, timeout, source_address, socket_options)\u001b[0m\n\u001b[0;32m     79\u001b[0m     \u001b[1;32mif\u001b[0m \u001b[0merr\u001b[0m \u001b[1;32mis\u001b[0m \u001b[1;32mnot\u001b[0m \u001b[1;32mNone\u001b[0m\u001b[1;33m:\u001b[0m\u001b[1;33m\u001b[0m\u001b[0m\n\u001b[1;32m---> 80\u001b[1;33m         \u001b[1;32mraise\u001b[0m \u001b[0merr\u001b[0m\u001b[1;33m\u001b[0m\u001b[0m\n\u001b[0m\u001b[0;32m     81\u001b[0m \u001b[1;33m\u001b[0m\u001b[0m\n",
      "\u001b[1;32m~\\AppData\\Local\\Programs\\Python\\Python36\\lib\\urllib3\\util\\connection.py\u001b[0m in \u001b[0;36mcreate_connection\u001b[1;34m(address, timeout, source_address, socket_options)\u001b[0m\n\u001b[0;32m     69\u001b[0m                 \u001b[0msock\u001b[0m\u001b[1;33m.\u001b[0m\u001b[0mbind\u001b[0m\u001b[1;33m(\u001b[0m\u001b[0msource_address\u001b[0m\u001b[1;33m)\u001b[0m\u001b[1;33m\u001b[0m\u001b[0m\n\u001b[1;32m---> 70\u001b[1;33m             \u001b[0msock\u001b[0m\u001b[1;33m.\u001b[0m\u001b[0mconnect\u001b[0m\u001b[1;33m(\u001b[0m\u001b[0msa\u001b[0m\u001b[1;33m)\u001b[0m\u001b[1;33m\u001b[0m\u001b[0m\n\u001b[0m\u001b[0;32m     71\u001b[0m             \u001b[1;32mreturn\u001b[0m \u001b[0msock\u001b[0m\u001b[1;33m\u001b[0m\u001b[0m\n",
      "\u001b[1;31mTimeoutError\u001b[0m: [WinError 10060] A connection attempt failed because the connected party did not properly respond after a period of time, or established connection failed because connected host has failed to respond",
      "\nDuring handling of the above exception, another exception occurred:\n",
      "\u001b[1;31mNewConnectionError\u001b[0m                        Traceback (most recent call last)",
      "\u001b[1;32m~\\AppData\\Local\\Programs\\Python\\Python36\\lib\\urllib3\\connectionpool.py\u001b[0m in \u001b[0;36murlopen\u001b[1;34m(self, method, url, body, headers, retries, redirect, assert_same_host, timeout, pool_timeout, release_conn, chunked, body_pos, **response_kw)\u001b[0m\n\u001b[0;32m    602\u001b[0m                                                   \u001b[0mbody\u001b[0m\u001b[1;33m=\u001b[0m\u001b[0mbody\u001b[0m\u001b[1;33m,\u001b[0m \u001b[0mheaders\u001b[0m\u001b[1;33m=\u001b[0m\u001b[0mheaders\u001b[0m\u001b[1;33m,\u001b[0m\u001b[1;33m\u001b[0m\u001b[0m\n\u001b[1;32m--> 603\u001b[1;33m                                                   chunked=chunked)\n\u001b[0m\u001b[0;32m    604\u001b[0m \u001b[1;33m\u001b[0m\u001b[0m\n",
      "\u001b[1;32m~\\AppData\\Local\\Programs\\Python\\Python36\\lib\\urllib3\\connectionpool.py\u001b[0m in \u001b[0;36m_make_request\u001b[1;34m(self, conn, method, url, timeout, chunked, **httplib_request_kw)\u001b[0m\n\u001b[0;32m    343\u001b[0m         \u001b[1;32mtry\u001b[0m\u001b[1;33m:\u001b[0m\u001b[1;33m\u001b[0m\u001b[0m\n\u001b[1;32m--> 344\u001b[1;33m             \u001b[0mself\u001b[0m\u001b[1;33m.\u001b[0m\u001b[0m_validate_conn\u001b[0m\u001b[1;33m(\u001b[0m\u001b[0mconn\u001b[0m\u001b[1;33m)\u001b[0m\u001b[1;33m\u001b[0m\u001b[0m\n\u001b[0m\u001b[0;32m    345\u001b[0m         \u001b[1;32mexcept\u001b[0m \u001b[1;33m(\u001b[0m\u001b[0mSocketTimeout\u001b[0m\u001b[1;33m,\u001b[0m \u001b[0mBaseSSLError\u001b[0m\u001b[1;33m)\u001b[0m \u001b[1;32mas\u001b[0m \u001b[0me\u001b[0m\u001b[1;33m:\u001b[0m\u001b[1;33m\u001b[0m\u001b[0m\n",
      "\u001b[1;32m~\\AppData\\Local\\Programs\\Python\\Python36\\lib\\urllib3\\connectionpool.py\u001b[0m in \u001b[0;36m_validate_conn\u001b[1;34m(self, conn)\u001b[0m\n\u001b[0;32m    842\u001b[0m         \u001b[1;32mif\u001b[0m \u001b[1;32mnot\u001b[0m \u001b[0mgetattr\u001b[0m\u001b[1;33m(\u001b[0m\u001b[0mconn\u001b[0m\u001b[1;33m,\u001b[0m \u001b[1;34m'sock'\u001b[0m\u001b[1;33m,\u001b[0m \u001b[1;32mNone\u001b[0m\u001b[1;33m)\u001b[0m\u001b[1;33m:\u001b[0m  \u001b[1;31m# AppEngine might not have  `.sock`\u001b[0m\u001b[1;33m\u001b[0m\u001b[0m\n\u001b[1;32m--> 843\u001b[1;33m             \u001b[0mconn\u001b[0m\u001b[1;33m.\u001b[0m\u001b[0mconnect\u001b[0m\u001b[1;33m(\u001b[0m\u001b[1;33m)\u001b[0m\u001b[1;33m\u001b[0m\u001b[0m\n\u001b[0m\u001b[0;32m    844\u001b[0m \u001b[1;33m\u001b[0m\u001b[0m\n",
      "\u001b[1;32m~\\AppData\\Local\\Programs\\Python\\Python36\\lib\\urllib3\\connection.py\u001b[0m in \u001b[0;36mconnect\u001b[1;34m(self)\u001b[0m\n\u001b[0;32m    315\u001b[0m         \u001b[1;31m# Add certificate verification\u001b[0m\u001b[1;33m\u001b[0m\u001b[1;33m\u001b[0m\u001b[0m\n\u001b[1;32m--> 316\u001b[1;33m         \u001b[0mconn\u001b[0m \u001b[1;33m=\u001b[0m \u001b[0mself\u001b[0m\u001b[1;33m.\u001b[0m\u001b[0m_new_conn\u001b[0m\u001b[1;33m(\u001b[0m\u001b[1;33m)\u001b[0m\u001b[1;33m\u001b[0m\u001b[0m\n\u001b[0m\u001b[0;32m    317\u001b[0m         \u001b[0mhostname\u001b[0m \u001b[1;33m=\u001b[0m \u001b[0mself\u001b[0m\u001b[1;33m.\u001b[0m\u001b[0mhost\u001b[0m\u001b[1;33m\u001b[0m\u001b[0m\n",
      "\u001b[1;32m~\\AppData\\Local\\Programs\\Python\\Python36\\lib\\urllib3\\connection.py\u001b[0m in \u001b[0;36m_new_conn\u001b[1;34m(self)\u001b[0m\n\u001b[0;32m    168\u001b[0m             raise NewConnectionError(\n\u001b[1;32m--> 169\u001b[1;33m                 self, \"Failed to establish a new connection: %s\" % e)\n\u001b[0m\u001b[0;32m    170\u001b[0m \u001b[1;33m\u001b[0m\u001b[0m\n",
      "\u001b[1;31mNewConnectionError\u001b[0m: <urllib3.connection.VerifiedHTTPSConnection object at 0x00000185B1386748>: Failed to establish a new connection: [WinError 10060] A connection attempt failed because the connected party did not properly respond after a period of time, or established connection failed because connected host has failed to respond",
      "\nDuring handling of the above exception, another exception occurred:\n",
      "\u001b[1;31mMaxRetryError\u001b[0m                             Traceback (most recent call last)",
      "\u001b[1;32m~\\AppData\\Local\\Programs\\Python\\Python36\\lib\\requests\\adapters.py\u001b[0m in \u001b[0;36msend\u001b[1;34m(self, request, stream, timeout, verify, cert, proxies)\u001b[0m\n\u001b[0;32m    448\u001b[0m                     \u001b[0mretries\u001b[0m\u001b[1;33m=\u001b[0m\u001b[0mself\u001b[0m\u001b[1;33m.\u001b[0m\u001b[0mmax_retries\u001b[0m\u001b[1;33m,\u001b[0m\u001b[1;33m\u001b[0m\u001b[0m\n\u001b[1;32m--> 449\u001b[1;33m                     \u001b[0mtimeout\u001b[0m\u001b[1;33m=\u001b[0m\u001b[0mtimeout\u001b[0m\u001b[1;33m\u001b[0m\u001b[0m\n\u001b[0m\u001b[0;32m    450\u001b[0m                 )\n",
      "\u001b[1;32m~\\AppData\\Local\\Programs\\Python\\Python36\\lib\\urllib3\\connectionpool.py\u001b[0m in \u001b[0;36murlopen\u001b[1;34m(self, method, url, body, headers, retries, redirect, assert_same_host, timeout, pool_timeout, release_conn, chunked, body_pos, **response_kw)\u001b[0m\n\u001b[0;32m    640\u001b[0m             retries = retries.increment(method, url, error=e, _pool=self,\n\u001b[1;32m--> 641\u001b[1;33m                                         _stacktrace=sys.exc_info()[2])\n\u001b[0m\u001b[0;32m    642\u001b[0m             \u001b[0mretries\u001b[0m\u001b[1;33m.\u001b[0m\u001b[0msleep\u001b[0m\u001b[1;33m(\u001b[0m\u001b[1;33m)\u001b[0m\u001b[1;33m\u001b[0m\u001b[0m\n",
      "\u001b[1;32m~\\AppData\\Local\\Programs\\Python\\Python36\\lib\\urllib3\\util\\retry.py\u001b[0m in \u001b[0;36mincrement\u001b[1;34m(self, method, url, response, error, _pool, _stacktrace)\u001b[0m\n\u001b[0;32m    398\u001b[0m         \u001b[1;32mif\u001b[0m \u001b[0mnew_retry\u001b[0m\u001b[1;33m.\u001b[0m\u001b[0mis_exhausted\u001b[0m\u001b[1;33m(\u001b[0m\u001b[1;33m)\u001b[0m\u001b[1;33m:\u001b[0m\u001b[1;33m\u001b[0m\u001b[0m\n\u001b[1;32m--> 399\u001b[1;33m             \u001b[1;32mraise\u001b[0m \u001b[0mMaxRetryError\u001b[0m\u001b[1;33m(\u001b[0m\u001b[0m_pool\u001b[0m\u001b[1;33m,\u001b[0m \u001b[0murl\u001b[0m\u001b[1;33m,\u001b[0m \u001b[0merror\u001b[0m \u001b[1;32mor\u001b[0m \u001b[0mResponseError\u001b[0m\u001b[1;33m(\u001b[0m\u001b[0mcause\u001b[0m\u001b[1;33m)\u001b[0m\u001b[1;33m)\u001b[0m\u001b[1;33m\u001b[0m\u001b[0m\n\u001b[0m\u001b[0;32m    400\u001b[0m \u001b[1;33m\u001b[0m\u001b[0m\n",
      "\u001b[1;31mMaxRetryError\u001b[0m: HTTPSConnectionPool(host='www.otodom.pl', port=443): Max retries exceeded with url: /oferta/apartament-2-pok-pierwszy-najem-bulwary-ksiazece-ID3OSBq.html (Caused by NewConnectionError('<urllib3.connection.VerifiedHTTPSConnection object at 0x00000185B1386748>: Failed to establish a new connection: [WinError 10060] A connection attempt failed because the connected party did not properly respond after a period of time, or established connection failed because connected host has failed to respond',))",
      "\nDuring handling of the above exception, another exception occurred:\n",
      "\u001b[1;31mConnectionError\u001b[0m                           Traceback (most recent call last)",
      "\u001b[1;32m<ipython-input-5-12a6c5047b6c>\u001b[0m in \u001b[0;36m<module>\u001b[1;34m\u001b[0m\n\u001b[1;32m----> 1\u001b[1;33m \u001b[0mrepair_time\u001b[0m\u001b[1;33m(\u001b[0m\u001b[0mdata\u001b[0m\u001b[1;33m)\u001b[0m\u001b[1;33m\u001b[0m\u001b[0m\n\u001b[0m",
      "\u001b[1;32m~\\Downloads\\Mieszkania_Wrocław\\functions\\eda\\change_df.py\u001b[0m in \u001b[0;36mrepair_time\u001b[1;34m(data)\u001b[0m\n\u001b[0;32m     10\u001b[0m \u001b[1;33m\u001b[0m\u001b[0m\n\u001b[0;32m     11\u001b[0m     \u001b[1;32mfor\u001b[0m \u001b[0mindex\u001b[0m\u001b[1;33m,\u001b[0m \u001b[0mrow\u001b[0m \u001b[1;32min\u001b[0m \u001b[0mdata\u001b[0m\u001b[1;33m.\u001b[0m\u001b[0miterrows\u001b[0m\u001b[1;33m(\u001b[0m\u001b[1;33m)\u001b[0m\u001b[1;33m:\u001b[0m\u001b[1;33m\u001b[0m\u001b[0m\n\u001b[1;32m---> 12\u001b[1;33m         \u001b[0msource\u001b[0m \u001b[1;33m=\u001b[0m \u001b[0mrequests\u001b[0m\u001b[1;33m.\u001b[0m\u001b[0mget\u001b[0m\u001b[1;33m(\u001b[0m\u001b[0mrow\u001b[0m\u001b[1;33m[\u001b[0m\u001b[1;34m'Link'\u001b[0m\u001b[1;33m]\u001b[0m\u001b[1;33m)\u001b[0m\u001b[1;33m.\u001b[0m\u001b[0mtext\u001b[0m\u001b[1;33m\u001b[0m\u001b[0m\n\u001b[0m\u001b[0;32m     13\u001b[0m         \u001b[0msoup\u001b[0m \u001b[1;33m=\u001b[0m \u001b[0mBeautifulSoup\u001b[0m\u001b[1;33m(\u001b[0m\u001b[0msource\u001b[0m\u001b[1;33m,\u001b[0m \u001b[1;34m'lxml'\u001b[0m\u001b[1;33m)\u001b[0m\u001b[1;33m\u001b[0m\u001b[0m\n\u001b[0;32m     14\u001b[0m         \u001b[1;32mif\u001b[0m \u001b[0mtype\u001b[0m\u001b[1;33m(\u001b[0m\u001b[0mrow\u001b[0m\u001b[1;33m[\u001b[0m\u001b[1;34m'Date'\u001b[0m\u001b[1;33m]\u001b[0m\u001b[1;33m)\u001b[0m \u001b[1;33m==\u001b[0m \u001b[0mstr\u001b[0m \u001b[1;32mand\u001b[0m \u001b[0mrow\u001b[0m\u001b[1;33m[\u001b[0m\u001b[1;34m'Time'\u001b[0m\u001b[1;33m]\u001b[0m \u001b[1;33m!=\u001b[0m \u001b[1;34m'+30'\u001b[0m\u001b[1;33m:\u001b[0m\u001b[1;33m\u001b[0m\u001b[0m\n",
      "\u001b[1;32m~\\AppData\\Local\\Programs\\Python\\Python36\\lib\\requests\\api.py\u001b[0m in \u001b[0;36mget\u001b[1;34m(url, params, **kwargs)\u001b[0m\n\u001b[0;32m     73\u001b[0m \u001b[1;33m\u001b[0m\u001b[0m\n\u001b[0;32m     74\u001b[0m     \u001b[0mkwargs\u001b[0m\u001b[1;33m.\u001b[0m\u001b[0msetdefault\u001b[0m\u001b[1;33m(\u001b[0m\u001b[1;34m'allow_redirects'\u001b[0m\u001b[1;33m,\u001b[0m \u001b[1;32mTrue\u001b[0m\u001b[1;33m)\u001b[0m\u001b[1;33m\u001b[0m\u001b[0m\n\u001b[1;32m---> 75\u001b[1;33m     \u001b[1;32mreturn\u001b[0m \u001b[0mrequest\u001b[0m\u001b[1;33m(\u001b[0m\u001b[1;34m'get'\u001b[0m\u001b[1;33m,\u001b[0m \u001b[0murl\u001b[0m\u001b[1;33m,\u001b[0m \u001b[0mparams\u001b[0m\u001b[1;33m=\u001b[0m\u001b[0mparams\u001b[0m\u001b[1;33m,\u001b[0m \u001b[1;33m**\u001b[0m\u001b[0mkwargs\u001b[0m\u001b[1;33m)\u001b[0m\u001b[1;33m\u001b[0m\u001b[0m\n\u001b[0m\u001b[0;32m     76\u001b[0m \u001b[1;33m\u001b[0m\u001b[0m\n\u001b[0;32m     77\u001b[0m \u001b[1;33m\u001b[0m\u001b[0m\n",
      "\u001b[1;32m~\\AppData\\Local\\Programs\\Python\\Python36\\lib\\requests\\api.py\u001b[0m in \u001b[0;36mrequest\u001b[1;34m(method, url, **kwargs)\u001b[0m\n\u001b[0;32m     58\u001b[0m     \u001b[1;31m# cases, and look like a memory leak in others.\u001b[0m\u001b[1;33m\u001b[0m\u001b[1;33m\u001b[0m\u001b[0m\n\u001b[0;32m     59\u001b[0m     \u001b[1;32mwith\u001b[0m \u001b[0msessions\u001b[0m\u001b[1;33m.\u001b[0m\u001b[0mSession\u001b[0m\u001b[1;33m(\u001b[0m\u001b[1;33m)\u001b[0m \u001b[1;32mas\u001b[0m \u001b[0msession\u001b[0m\u001b[1;33m:\u001b[0m\u001b[1;33m\u001b[0m\u001b[0m\n\u001b[1;32m---> 60\u001b[1;33m         \u001b[1;32mreturn\u001b[0m \u001b[0msession\u001b[0m\u001b[1;33m.\u001b[0m\u001b[0mrequest\u001b[0m\u001b[1;33m(\u001b[0m\u001b[0mmethod\u001b[0m\u001b[1;33m=\u001b[0m\u001b[0mmethod\u001b[0m\u001b[1;33m,\u001b[0m \u001b[0murl\u001b[0m\u001b[1;33m=\u001b[0m\u001b[0murl\u001b[0m\u001b[1;33m,\u001b[0m \u001b[1;33m**\u001b[0m\u001b[0mkwargs\u001b[0m\u001b[1;33m)\u001b[0m\u001b[1;33m\u001b[0m\u001b[0m\n\u001b[0m\u001b[0;32m     61\u001b[0m \u001b[1;33m\u001b[0m\u001b[0m\n\u001b[0;32m     62\u001b[0m \u001b[1;33m\u001b[0m\u001b[0m\n",
      "\u001b[1;32m~\\AppData\\Local\\Programs\\Python\\Python36\\lib\\requests\\sessions.py\u001b[0m in \u001b[0;36mrequest\u001b[1;34m(self, method, url, params, data, headers, cookies, files, auth, timeout, allow_redirects, proxies, hooks, stream, verify, cert, json)\u001b[0m\n\u001b[0;32m    531\u001b[0m         }\n\u001b[0;32m    532\u001b[0m         \u001b[0msend_kwargs\u001b[0m\u001b[1;33m.\u001b[0m\u001b[0mupdate\u001b[0m\u001b[1;33m(\u001b[0m\u001b[0msettings\u001b[0m\u001b[1;33m)\u001b[0m\u001b[1;33m\u001b[0m\u001b[0m\n\u001b[1;32m--> 533\u001b[1;33m         \u001b[0mresp\u001b[0m \u001b[1;33m=\u001b[0m \u001b[0mself\u001b[0m\u001b[1;33m.\u001b[0m\u001b[0msend\u001b[0m\u001b[1;33m(\u001b[0m\u001b[0mprep\u001b[0m\u001b[1;33m,\u001b[0m \u001b[1;33m**\u001b[0m\u001b[0msend_kwargs\u001b[0m\u001b[1;33m)\u001b[0m\u001b[1;33m\u001b[0m\u001b[0m\n\u001b[0m\u001b[0;32m    534\u001b[0m \u001b[1;33m\u001b[0m\u001b[0m\n\u001b[0;32m    535\u001b[0m         \u001b[1;32mreturn\u001b[0m \u001b[0mresp\u001b[0m\u001b[1;33m\u001b[0m\u001b[0m\n",
      "\u001b[1;32m~\\AppData\\Local\\Programs\\Python\\Python36\\lib\\requests\\sessions.py\u001b[0m in \u001b[0;36msend\u001b[1;34m(self, request, **kwargs)\u001b[0m\n\u001b[0;32m    644\u001b[0m \u001b[1;33m\u001b[0m\u001b[0m\n\u001b[0;32m    645\u001b[0m         \u001b[1;31m# Send the request\u001b[0m\u001b[1;33m\u001b[0m\u001b[1;33m\u001b[0m\u001b[0m\n\u001b[1;32m--> 646\u001b[1;33m         \u001b[0mr\u001b[0m \u001b[1;33m=\u001b[0m \u001b[0madapter\u001b[0m\u001b[1;33m.\u001b[0m\u001b[0msend\u001b[0m\u001b[1;33m(\u001b[0m\u001b[0mrequest\u001b[0m\u001b[1;33m,\u001b[0m \u001b[1;33m**\u001b[0m\u001b[0mkwargs\u001b[0m\u001b[1;33m)\u001b[0m\u001b[1;33m\u001b[0m\u001b[0m\n\u001b[0m\u001b[0;32m    647\u001b[0m \u001b[1;33m\u001b[0m\u001b[0m\n\u001b[0;32m    648\u001b[0m         \u001b[1;31m# Total elapsed time of the request (approximately)\u001b[0m\u001b[1;33m\u001b[0m\u001b[1;33m\u001b[0m\u001b[0m\n",
      "\u001b[1;32m~\\AppData\\Local\\Programs\\Python\\Python36\\lib\\requests\\adapters.py\u001b[0m in \u001b[0;36msend\u001b[1;34m(self, request, stream, timeout, verify, cert, proxies)\u001b[0m\n\u001b[0;32m    514\u001b[0m                 \u001b[1;32mraise\u001b[0m \u001b[0mSSLError\u001b[0m\u001b[1;33m(\u001b[0m\u001b[0me\u001b[0m\u001b[1;33m,\u001b[0m \u001b[0mrequest\u001b[0m\u001b[1;33m=\u001b[0m\u001b[0mrequest\u001b[0m\u001b[1;33m)\u001b[0m\u001b[1;33m\u001b[0m\u001b[0m\n\u001b[0;32m    515\u001b[0m \u001b[1;33m\u001b[0m\u001b[0m\n\u001b[1;32m--> 516\u001b[1;33m             \u001b[1;32mraise\u001b[0m \u001b[0mConnectionError\u001b[0m\u001b[1;33m(\u001b[0m\u001b[0me\u001b[0m\u001b[1;33m,\u001b[0m \u001b[0mrequest\u001b[0m\u001b[1;33m=\u001b[0m\u001b[0mrequest\u001b[0m\u001b[1;33m)\u001b[0m\u001b[1;33m\u001b[0m\u001b[0m\n\u001b[0m\u001b[0;32m    517\u001b[0m \u001b[1;33m\u001b[0m\u001b[0m\n\u001b[0;32m    518\u001b[0m         \u001b[1;32mexcept\u001b[0m \u001b[0mClosedPoolError\u001b[0m \u001b[1;32mas\u001b[0m \u001b[0me\u001b[0m\u001b[1;33m:\u001b[0m\u001b[1;33m\u001b[0m\u001b[0m\n",
      "\u001b[1;31mConnectionError\u001b[0m: HTTPSConnectionPool(host='www.otodom.pl', port=443): Max retries exceeded with url: /oferta/apartament-2-pok-pierwszy-najem-bulwary-ksiazece-ID3OSBq.html (Caused by NewConnectionError('<urllib3.connection.VerifiedHTTPSConnection object at 0x00000185B1386748>: Failed to establish a new connection: [WinError 10060] A connection attempt failed because the connected party did not properly respond after a period of time, or established connection failed because connected host has failed to respond',))"
     ]
    }
   ],
   "source": [
    "repair_time(data)"
   ]
  },
  {
   "cell_type": "markdown",
   "metadata": {
    "colab_type": "text",
    "id": "Go5r_3zBjqwt"
   },
   "source": [
    "## Sprawdzenie, które z danych nominalnych wymagają ujednolicenia"
   ]
  },
  {
   "cell_type": "code",
   "execution_count": null,
   "metadata": {},
   "outputs": [],
   "source": [
    "print_unique(data)"
   ]
  },
  {
   "cell_type": "markdown",
   "metadata": {
    "colab_type": "text",
    "id": "2rMg0Z2VjKTT"
   },
   "source": [
    "## Ujednolicenie nazw zabudowań"
   ]
  },
  {
   "cell_type": "code",
   "execution_count": null,
   "metadata": {
    "colab": {},
    "colab_type": "code",
    "id": "ZPYjW5iobz8o"
   },
   "outputs": [],
   "source": [
    "data = unify_buildings(data)"
   ]
  },
  {
   "cell_type": "markdown",
   "metadata": {
    "colab_type": "text",
    "id": "pZexSCxIjgVf"
   },
   "source": [
    "## Utworzenie nowej kolumny z informacją o statusie sprzedaży"
   ]
  },
  {
   "cell_type": "code",
   "execution_count": null,
   "metadata": {
    "colab": {},
    "colab_type": "code",
    "id": "BGU4-gKCeRa-"
   },
   "outputs": [],
   "source": [
    "data = add_column_with_status(data)"
   ]
  },
  {
   "cell_type": "markdown",
   "metadata": {
    "colab_type": "text",
    "id": "qyD_GRlIo5ci"
   },
   "source": [
    "Kolumna 'Sold_in_30':\n",
    "\n",
    "0 - Stare ogłoszenia,\n",
    "\n",
    "1 - Sprzedane w ciągu 30 dni,\n",
    "\n",
    "2 - Niesprzedane ogłoszenia młodsze niż 30 dni."
   ]
  },
  {
   "cell_type": "markdown",
   "metadata": {
    "colab_type": "text",
    "id": "PYjr6E0Ck4WL"
   },
   "source": [
    "## Usunięcie ofert w €"
   ]
  },
  {
   "cell_type": "code",
   "execution_count": null,
   "metadata": {
    "colab": {},
    "colab_type": "code",
    "id": "ZPBzuZ2SLiv5"
   },
   "outputs": [],
   "source": [
    "data = delete_euro_offers(data)"
   ]
  },
  {
   "cell_type": "markdown",
   "metadata": {
    "colab_type": "text",
    "id": "A4neTonUk-0B"
   },
   "source": [
    "## Sprowadzenie ceny do jednej kolumny"
   ]
  },
  {
   "cell_type": "code",
   "execution_count": null,
   "metadata": {
    "colab": {},
    "colab_type": "code",
    "id": "ivwWgwa5JFt7"
   },
   "outputs": [],
   "source": [
    "data = unify_price(data)"
   ]
  },
  {
   "cell_type": "markdown",
   "metadata": {
    "colab_type": "text",
    "id": "zsgOIu9alREl"
   },
   "source": [
    "## Ujednolicenie lokalizacji"
   ]
  },
  {
   "cell_type": "code",
   "execution_count": null,
   "metadata": {
    "colab": {},
    "colab_type": "code",
    "id": "yG9BINCUfLcK"
   },
   "outputs": [],
   "source": [
    "data = unify_location(data)"
   ]
  },
  {
   "cell_type": "markdown",
   "metadata": {
    "colab_type": "text",
    "id": "O7K6fdcFlyxx"
   },
   "source": [
    "## Ujednolicenie informacji o sprzedającym"
   ]
  },
  {
   "cell_type": "code",
   "execution_count": null,
   "metadata": {
    "colab": {},
    "colab_type": "code",
    "id": "imo-2z7Nl4EW"
   },
   "outputs": [],
   "source": [
    "data = unify_dealer(data)"
   ]
  },
  {
   "cell_type": "markdown",
   "metadata": {
    "colab_type": "text",
    "id": "mShDb8qfmuU6"
   },
   "source": [
    "## Ujednolicenie informacji o pokojach"
   ]
  },
  {
   "cell_type": "code",
   "execution_count": null,
   "metadata": {
    "colab": {},
    "colab_type": "code",
    "id": "uM5iWDj5m0EJ"
   },
   "outputs": [],
   "source": [
    "data = unify_rooms(data)"
   ]
  },
  {
   "cell_type": "markdown",
   "metadata": {
    "colab_type": "text",
    "id": "RYqLrqY2rt7y"
   },
   "source": [
    "## Ujednolicenie informacji o piętrze"
   ]
  },
  {
   "cell_type": "code",
   "execution_count": null,
   "metadata": {
    "colab": {},
    "colab_type": "code",
    "id": "6m88BlzvryAI"
   },
   "outputs": [],
   "source": [
    "data = unify_floor(data)"
   ]
  },
  {
   "cell_type": "markdown",
   "metadata": {},
   "source": [
    "## Zmiana informacji o umeblowaniu na wartości binarne"
   ]
  },
  {
   "cell_type": "code",
   "execution_count": null,
   "metadata": {},
   "outputs": [],
   "source": [
    "data = binarize_furnished(data)"
   ]
  },
  {
   "cell_type": "markdown",
   "metadata": {
    "colab_type": "text",
    "id": "CzT2PFf8lYNe"
   },
   "source": [
    "## Usunięcie wartości odstających"
   ]
  },
  {
   "cell_type": "code",
   "execution_count": null,
   "metadata": {},
   "outputs": [],
   "source": [
    "data = delete_outliers(data, ['Price', 'Area'])"
   ]
  },
  {
   "cell_type": "markdown",
   "metadata": {},
   "source": [
    "## Usunięcie niepotrzebnych kolumn"
   ]
  },
  {
   "cell_type": "code",
   "execution_count": null,
   "metadata": {},
   "outputs": [],
   "source": [
    "data = delete_columns(data, ['Title', 'Id_number', 'Link'])"
   ]
  },
  {
   "cell_type": "markdown",
   "metadata": {
    "colab_type": "text",
    "id": "fRZfubEi2-AU"
   },
   "source": [
    "## Podstawowe informacje o uzyskanych danych"
   ]
  },
  {
   "cell_type": "code",
   "execution_count": null,
   "metadata": {
    "colab": {
     "base_uri": "https://localhost:8080/",
     "height": 306
    },
    "colab_type": "code",
    "executionInfo": {
     "elapsed": 39528,
     "status": "ok",
     "timestamp": 1575381504213,
     "user": {
      "displayName": "Miłosz Gajowczyk",
      "photoUrl": "",
      "userId": "15994105115221921716"
     },
     "user_tz": -60
    },
    "id": "k_O5gLUVTpjT",
    "outputId": "ca819236-689c-4946-b315-da74ebf11441"
   },
   "outputs": [],
   "source": [
    "data.head()"
   ]
  },
  {
   "cell_type": "code",
   "execution_count": null,
   "metadata": {
    "colab": {
     "base_uri": "https://localhost:8080/",
     "height": 408
    },
    "colab_type": "code",
    "executionInfo": {
     "elapsed": 39522,
     "status": "ok",
     "timestamp": 1575381504214,
     "user": {
      "displayName": "Miłosz Gajowczyk",
      "photoUrl": "",
      "userId": "15994105115221921716"
     },
     "user_tz": -60
    },
    "id": "ykVIa5vS28RR",
    "outputId": "cb02496f-08f7-42b3-fe83-024cf1578547"
   },
   "outputs": [],
   "source": [
    "data.info()"
   ]
  },
  {
   "cell_type": "code",
   "execution_count": null,
   "metadata": {
    "colab": {
     "base_uri": "https://localhost:8080/",
     "height": 297
    },
    "colab_type": "code",
    "executionInfo": {
     "elapsed": 39409,
     "status": "ok",
     "timestamp": 1575381504216,
     "user": {
      "displayName": "Miłosz Gajowczyk",
      "photoUrl": "",
      "userId": "15994105115221921716"
     },
     "user_tz": -60
    },
    "id": "sCZARRsT28e7",
    "outputId": "98887283-d6a1-4e4d-9655-833c04bd8980"
   },
   "outputs": [],
   "source": [
    "data.describe()"
   ]
  },
  {
   "cell_type": "markdown",
   "metadata": {
    "colab_type": "text",
    "id": "DhICwuI53P3e"
   },
   "source": [
    "## Histogramy i wykresy słupkowe"
   ]
  },
  {
   "cell_type": "markdown",
   "metadata": {
    "colab_type": "text",
    "id": "lsYunXj93XHz"
   },
   "source": [
    "### Dane tylko z OLX"
   ]
  },
  {
   "cell_type": "code",
   "execution_count": null,
   "metadata": {},
   "outputs": [],
   "source": [
    "olx_histograms(data, ['Date', 'Time', 'Furnished', 'Sold_in_30'])"
   ]
  },
  {
   "cell_type": "markdown",
   "metadata": {
    "colab_type": "text",
    "id": "Cvw7Pj023dVX"
   },
   "source": [
    "### Wszystkie dane"
   ]
  },
  {
   "cell_type": "code",
   "execution_count": null,
   "metadata": {
    "colab": {
     "base_uri": "https://localhost:8080/",
     "height": 960
    },
    "colab_type": "code",
    "executionInfo": {
     "elapsed": 43149,
     "status": "ok",
     "timestamp": 1575381507999,
     "user": {
      "displayName": "Miłosz Gajowczyk",
      "photoUrl": "",
      "userId": "15994105115221921716"
     },
     "user_tz": -60
    },
    "id": "_JUgbeE0bNdU",
    "outputId": "a083bed0-027c-4d10-b69e-438c460c05ef"
   },
   "outputs": [],
   "source": [
    "plot_histograms(data, ['Popularity', 'Time', 'Date', 'Furnished'])"
   ]
  },
  {
   "cell_type": "code",
   "execution_count": null,
   "metadata": {
    "colab": {
     "base_uri": "https://localhost:8080/",
     "height": 787
    },
    "colab_type": "code",
    "executionInfo": {
     "elapsed": 43566,
     "status": "ok",
     "timestamp": 1575381508423,
     "user": {
      "displayName": "Miłosz Gajowczyk",
      "photoUrl": "",
      "userId": "15994105115221921716"
     },
     "user_tz": -60
    },
    "id": "ME2qYCcKWwHN",
    "outputId": "d116b2cc-0d08-48c0-9501-d1c56cc2af64"
   },
   "outputs": [],
   "source": [
    "plot_heatmap(data, ['Price', 'Area', 'Popularity'])"
   ]
  },
  {
   "cell_type": "markdown",
   "metadata": {
    "colab_type": "text",
    "id": "FQxQPO2p3m_E"
   },
   "source": [
    "## Wykres rozproszenia ceny od powierzchi"
   ]
  },
  {
   "cell_type": "code",
   "execution_count": null,
   "metadata": {},
   "outputs": [],
   "source": [
    "plot_custom_scatter(data[data['Sold_in_30'] != 2.0], 'Area', 'Price', 'Sold_in_30')"
   ]
  },
  {
   "cell_type": "code",
   "execution_count": null,
   "metadata": {},
   "outputs": [],
   "source": [
    "plot_custom_scatter(data[data['Sold_in_30'] != 2.0], 'Area', 'Price', 'Sold_in_30', groupby='Location')"
   ]
  },
  {
   "cell_type": "markdown",
   "metadata": {
    "colab_type": "text",
    "id": "eFeAQPoaL8aI"
   },
   "source": [
    "## Encoder"
   ]
  },
  {
   "cell_type": "code",
   "execution_count": null,
   "metadata": {
    "colab": {
     "base_uri": "https://localhost:8080/",
     "height": 413
    },
    "colab_type": "code",
    "executionInfo": {
     "elapsed": 51438,
     "status": "ok",
     "timestamp": 1575381516332,
     "user": {
      "displayName": "Miłosz Gajowczyk",
      "photoUrl": "",
      "userId": "15994105115221921716"
     },
     "user_tz": -60
    },
    "id": "XiatGtJ5ROpg",
    "outputId": "0178ebbd-cf69-4eda-9ced-85404812d360"
   },
   "outputs": [],
   "source": [
    "data = encode_implement_all(data, ['Building', 'Dealer', 'Location', 'Floor', 'Rooms'])\n",
    "data.head()"
   ]
  },
  {
   "cell_type": "markdown",
   "metadata": {
    "colab_type": "text",
    "id": "HCIyZC-53gQ1"
   },
   "source": [
    "## Podział datasetu na testowy i treningowy"
   ]
  },
  {
   "cell_type": "code",
   "execution_count": null,
   "metadata": {},
   "outputs": [],
   "source": [
    "X_train_reg, X_test_reg, y_train_reg, y_test_reg = my_train_test_split(data,\n",
    "                                                                       'Price',\n",
    "                                                                       'Sold_in_30',\n",
    "                                                                       ['Popularity', 'Time', 'Date'])\n",
    "\n",
    "X_train_clf, X_test_clf, y_train_clf, y_test_clf = my_train_test_split(data,\n",
    "                                                                       'Sold_in_30',\n",
    "                                                                       'Sold_in_30',\n",
    "                                                                       ['Popularity', 'Time', 'Date'])"
   ]
  },
  {
   "cell_type": "markdown",
   "metadata": {
    "colab_type": "text",
    "id": "LZYyu_5sMBPX"
   },
   "source": [
    "## Modele predykcyjne"
   ]
  },
  {
   "cell_type": "code",
   "execution_count": null,
   "metadata": {
    "colab": {},
    "colab_type": "code",
    "id": "WcYuNZNYXj5F"
   },
   "outputs": [],
   "source": [
    "from sklearn.linear_model import LinearRegression\n",
    "from sklearn.ensemble import RandomForestRegressor\n",
    "from sklearn.model_selection import cross_val_score\n",
    "from sklearn.pipeline import Pipeline\n",
    "from sklearn.preprocessing import StandardScaler\n",
    "\n",
    "import shap"
   ]
  },
  {
   "cell_type": "code",
   "execution_count": null,
   "metadata": {
    "colab": {
     "base_uri": "https://localhost:8080/",
     "height": 646
    },
    "colab_type": "code",
    "executionInfo": {
     "elapsed": 51758,
     "status": "ok",
     "timestamp": 1575381516682,
     "user": {
      "displayName": "Miłosz Gajowczyk",
      "photoUrl": "",
      "userId": "15994105115221921716"
     },
     "user_tz": -60
    },
    "id": "tP1Q3mS9MngD",
    "outputId": "890964c6-884b-43a4-f8e5-3293659ab0fc"
   },
   "outputs": [],
   "source": [
    "X_train_reg.isnull().sum()"
   ]
  },
  {
   "cell_type": "markdown",
   "metadata": {
    "colab_type": "text",
    "id": "etsYLHim0LOk"
   },
   "source": [
    "### Regresja liniowa"
   ]
  },
  {
   "cell_type": "code",
   "execution_count": null,
   "metadata": {
    "colab": {
     "base_uri": "https://localhost:8080/",
     "height": 34
    },
    "colab_type": "code",
    "executionInfo": {
     "elapsed": 51730,
     "status": "ok",
     "timestamp": 1575381516683,
     "user": {
      "displayName": "Miłosz Gajowczyk",
      "photoUrl": "",
      "userId": "15994105115221921716"
     },
     "user_tz": -60
    },
    "id": "zy6GtYiIcy_V",
    "outputId": "7b9a5edd-6c1e-4c32-b9b5-33e374bb1a45"
   },
   "outputs": [],
   "source": [
    "lin_reg = LinearRegression()\n",
    "lin_reg.fit(X_train_reg, y_train_reg)\n",
    "\n",
    "scores = cross_val_score(lin_reg, X_test_reg, y_test_reg, scoring=\"neg_mean_squared_error\", cv=10)\n",
    "rmse_scores = np.sqrt(abs(scores))\n",
    "np.mean(rmse_scores)"
   ]
  },
  {
   "cell_type": "code",
   "execution_count": null,
   "metadata": {
    "colab": {
     "base_uri": "https://localhost:8080/",
     "height": 34
    },
    "colab_type": "code",
    "executionInfo": {
     "elapsed": 51718,
     "status": "ok",
     "timestamp": 1575381516684,
     "user": {
      "displayName": "Miłosz Gajowczyk",
      "photoUrl": "",
      "userId": "15994105115221921716"
     },
     "user_tz": -60
    },
    "id": "JgtRGajTGgqC",
    "outputId": "b86b2e48-6eed-4a12-a218-c78e211ff323"
   },
   "outputs": [],
   "source": [
    "lin_reg_area = LinearRegression()\n",
    "lin_reg_area.fit(np.array(X_train_reg[['Area']]).reshape(-1, 1),  y_train_reg)\n",
    "\n",
    "scores = cross_val_score(lin_reg_area,np.array(X_test_reg[['Area']]).reshape(-1, 1), y_test_reg, scoring=\"neg_mean_squared_error\", cv=10)\n",
    "rmse_scores_area = np.sqrt(abs(scores))\n",
    "np.mean(rmse_scores_area)"
   ]
  },
  {
   "cell_type": "markdown",
   "metadata": {
    "colab_type": "text",
    "id": "pJQJoIUSiI-u"
   },
   "source": [
    "### Czy możemy porównać otrzymane linie regresji na wykresie?"
   ]
  },
  {
   "cell_type": "code",
   "execution_count": null,
   "metadata": {},
   "outputs": [],
   "source": [
    "lin_reg.coef_[0]"
   ]
  },
  {
   "cell_type": "markdown",
   "metadata": {},
   "source": [
    "Nie ponieważ regresja wieloraka zwróciła nam prostą biegnącą w 36 wymiarowej przestrzeni."
   ]
  },
  {
   "cell_type": "markdown",
   "metadata": {
    "colab_type": "text",
    "id": "2VMHuNJqvyc5"
   },
   "source": [
    "### Porównanie predykcji i prawdziwych wartości\n"
   ]
  },
  {
   "cell_type": "code",
   "execution_count": null,
   "metadata": {
    "colab": {},
    "colab_type": "code",
    "id": "BBVEKX7Vk30K"
   },
   "outputs": [],
   "source": [
    "compare_predictions_with_real(lin_reg, X_test_reg, y_test_reg)"
   ]
  },
  {
   "cell_type": "code",
   "execution_count": null,
   "metadata": {
    "colab": {},
    "colab_type": "code",
    "id": "z1XZMa6Shx2d"
   },
   "outputs": [],
   "source": [
    "my_residual_plot(X_train_reg, y_train_reg, X_test_reg, y_test_reg)"
   ]
  },
  {
   "cell_type": "markdown",
   "metadata": {
    "colab_type": "text",
    "id": "zPk8_uUU0EIK"
   },
   "source": [
    "http://docs.statwing.com/interpreting-residual-plots-to-improve-your-regression/"
   ]
  },
  {
   "cell_type": "markdown",
   "metadata": {
    "colab_type": "text",
    "id": "_ztHAr7L0GAQ"
   },
   "source": [
    "### Random Forest"
   ]
  },
  {
   "cell_type": "code",
   "execution_count": null,
   "metadata": {
    "colab": {},
    "colab_type": "code",
    "id": "TbDI-skyXN3w"
   },
   "outputs": [],
   "source": [
    "rand_forest_reg = RandomForestRegressor(max_depth=8, n_estimators=100)\n",
    "rand_forest_reg.fit(X_train_reg, list(y_train_reg['Price']))\n",
    "\n",
    "scores = cross_val_score(rand_forest_reg, X_test_reg, list(y_test_reg['Price']), scoring=\"neg_mean_squared_error\", cv=10)\n",
    "rmse_scores = np.sqrt(-scores)\n",
    "np.mean(rmse_scores)"
   ]
  },
  {
   "cell_type": "code",
   "execution_count": null,
   "metadata": {
    "colab": {},
    "colab_type": "code",
    "id": "Sr62Hbn3UaLx"
   },
   "outputs": [],
   "source": [
    "plot_feature_importance(rand_forest_reg.feature_importances_, X_train_reg)"
   ]
  },
  {
   "cell_type": "code",
   "execution_count": null,
   "metadata": {
    "colab": {},
    "colab_type": "code",
    "id": "MMjDUjtFOmtC"
   },
   "outputs": [],
   "source": [
    "shap_values = shap.TreeExplainer(rand_forest_reg, feature_dependence=\"independent\").shap_values(X_train_reg)"
   ]
  },
  {
   "cell_type": "code",
   "execution_count": null,
   "metadata": {
    "colab": {},
    "colab_type": "code",
    "id": "pepnPxHaQa_x"
   },
   "outputs": [],
   "source": [
    "shap.summary_plot(shap_values, X_train_reg)"
   ]
  },
  {
   "cell_type": "code",
   "execution_count": null,
   "metadata": {
    "colab": {},
    "colab_type": "code",
    "id": "aS9IZuxjQktf"
   },
   "outputs": [],
   "source": [
    "shap.dependence_plot('Area', shap_values, X_train_reg)"
   ]
  },
  {
   "cell_type": "code",
   "execution_count": null,
   "metadata": {},
   "outputs": [],
   "source": [
    "interactive_regression_tree(X_train_reg, y_train_reg)"
   ]
  },
  {
   "cell_type": "code",
   "execution_count": null,
   "metadata": {},
   "outputs": [],
   "source": []
  }
 ],
 "metadata": {
  "colab": {
   "collapsed_sections": [],
   "name": "Mieszkania DA.ipynb",
   "provenance": []
  },
  "kernelspec": {
   "display_name": "Python 3",
   "language": "python",
   "name": "python3"
  },
  "language_info": {
   "codemirror_mode": {
    "name": "ipython",
    "version": 3
   },
   "file_extension": ".py",
   "mimetype": "text/x-python",
   "name": "python",
   "nbconvert_exporter": "python",
   "pygments_lexer": "ipython3",
   "version": "3.6.4"
  }
 },
 "nbformat": 4,
 "nbformat_minor": 1
}
