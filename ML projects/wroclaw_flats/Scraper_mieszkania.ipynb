{
 "cells": [
  {
   "cell_type": "code",
   "execution_count": 4,
   "metadata": {
    "colab": {},
    "colab_type": "code",
    "id": "CEGHhWOrpFog"
   },
   "outputs": [],
   "source": [
    "try:\n",
    "    from google.colab import drive\n",
    "    drive.mount('/content/gdrive')\n",
    "    \n",
    "    import sys\n",
    "    sys.path.append('/content/gdrive/My Drive/Mieszkania_Wrocław')\n",
    "\n",
    "except ModuleNotFoundError:\n",
    "    pass\n",
    "\n",
    "from functions.scraper.scraper import (\n",
    "    prepare_column,\n",
    "    make_clickable,\n",
    "    search_all_sites,\n",
    "    olx_scraper,\n",
    "    otodom_scraper,\n",
    "    prepare_data_df,\n",
    "    fill_df\n",
    "    )"
   ]
  },
  {
   "cell_type": "markdown",
   "metadata": {
    "colab_type": "text",
    "id": "ZqIjX0YspM8h"
   },
   "source": [
    "Przeszukujemy wszystkie strony i nadpisujemy listę o ceny znalezionych mieszkań DO WYNAJĘCIA\n",
    "ilość stron jest zmienną, musi być więc aktualizowana\n",
    "\n"
   ]
  },
  {
   "cell_type": "code",
   "execution_count": 7,
   "metadata": {
    "colab": {},
    "colab_type": "code",
    "id": "U-GVJQgnpPHQ"
   },
   "outputs": [
    {
     "ename": "AttributeError",
     "evalue": "'NoneType' object has no attribute 'find_all'",
     "output_type": "error",
     "traceback": [
      "\u001b[1;31m---------------------------------------------------------------------------\u001b[0m",
      "\u001b[1;31mAttributeError\u001b[0m                            Traceback (most recent call last)",
      "\u001b[1;32m<ipython-input-7-686cacd0417e>\u001b[0m in \u001b[0;36m<module>\u001b[1;34m\u001b[0m\n\u001b[0;32m     17\u001b[0m \u001b[1;33m\u001b[0m\u001b[0m\n\u001b[0;32m     18\u001b[0m \u001b[1;31m#w podklasie input (są dwie) znajduje się ilość stron\u001b[0m\u001b[1;33m\u001b[0m\u001b[1;33m\u001b[0m\u001b[0m\n\u001b[1;32m---> 19\u001b[1;33m \u001b[0mnumber_of_paages\u001b[0m \u001b[1;33m=\u001b[0m \u001b[0mnumber_of_pages\u001b[0m\u001b[1;33m.\u001b[0m\u001b[0mfind_all\u001b[0m\u001b[1;33m(\u001b[0m\u001b[1;34m'input'\u001b[0m\u001b[1;33m)\u001b[0m\u001b[1;33m\u001b[0m\u001b[0m\n\u001b[0m\u001b[0;32m     20\u001b[0m \u001b[1;31m#print(number_of_paages) #pomocniczy print\u001b[0m\u001b[1;33m\u001b[0m\u001b[1;33m\u001b[0m\u001b[0m\n\u001b[0;32m     21\u001b[0m \u001b[1;33m\u001b[0m\u001b[0m\n",
      "\u001b[1;31mAttributeError\u001b[0m: 'NoneType' object has no attribute 'find_all'"
     ]
    }
   ],
   "source": [
    "list_of_olx_links, list_of_otodom_links = search_all_sites()"
   ]
  },
  {
   "cell_type": "code",
   "execution_count": null,
   "metadata": {
    "colab": {},
    "colab_type": "code",
    "id": "bUsmEpaXxViq"
   },
   "outputs": [],
   "source": [
    "oferts_dict_olx = olx_scraper(list_of_olx_links)"
   ]
  },
  {
   "cell_type": "code",
   "execution_count": null,
   "metadata": {
    "colab": {},
    "colab_type": "code",
    "id": "a9kA_1GlqxSx"
   },
   "outputs": [],
   "source": [
    "oferts_dict_otodom = otodom_scraper(list_of_otodom_links)"
   ]
  },
  {
   "cell_type": "markdown",
   "metadata": {},
   "source": [
    "Mergujemy oba słowniki"
   ]
  },
  {
   "cell_type": "code",
   "execution_count": null,
   "metadata": {},
   "outputs": [],
   "source": [
    "oferts_dict = {**oferts_dict_olx, **oferts_dict_otodom}"
   ]
  },
  {
   "cell_type": "code",
   "execution_count": null,
   "metadata": {
    "colab": {},
    "colab_type": "code",
    "id": "7UWHfVQdLVfK"
   },
   "outputs": [],
   "source": [
    "data = prepare_data_df(oferts_dict)"
   ]
  },
  {
   "cell_type": "code",
   "execution_count": null,
   "metadata": {
    "colab": {
     "base_uri": "https://localhost:8080/",
     "height": 51
    },
    "colab_type": "code",
    "executionInfo": {
     "elapsed": 1526888,
     "status": "ok",
     "timestamp": 1575633812498,
     "user": {
      "displayName": "Miłosz Gajowczyk",
      "photoUrl": "",
      "userId": "15994105115221921716"
     },
     "user_tz": -60
    },
    "id": "f3GhRRmnmsXF",
    "outputId": "7f983292-4e7a-4707-fd1c-29880c435752"
   },
   "outputs": [],
   "source": [
    "all_data = fill_df(data, 1)"
   ]
  },
  {
   "cell_type": "code",
   "execution_count": null,
   "metadata": {
    "colab": {
     "base_uri": "https://localhost:8080/",
     "height": 420
    },
    "colab_type": "code",
    "executionInfo": {
     "elapsed": 1526839,
     "status": "ok",
     "timestamp": 1575633812508,
     "user": {
      "displayName": "Miłosz Gajowczyk",
      "photoUrl": "",
      "userId": "15994105115221921716"
     },
     "user_tz": -60
    },
    "id": "pTkn0VBumrCH",
    "outputId": "6b509f3f-08a1-43a1-cba0-5107055f628b"
   },
   "outputs": [],
   "source": [
    "all_data.head(10).style.format({'Link': make_clickable})"
   ]
  }
 ],
 "metadata": {
  "colab": {
   "collapsed_sections": [],
   "name": "Scraper_mieszkania.ipynb",
   "provenance": []
  },
  "kernelspec": {
   "display_name": "Python 3",
   "language": "python",
   "name": "python3"
  },
  "language_info": {
   "codemirror_mode": {
    "name": "ipython",
    "version": 3
   },
   "file_extension": ".py",
   "mimetype": "text/x-python",
   "name": "python",
   "nbconvert_exporter": "python",
   "pygments_lexer": "ipython3",
   "version": "3.6.4"
  }
 },
 "nbformat": 4,
 "nbformat_minor": 1
}
