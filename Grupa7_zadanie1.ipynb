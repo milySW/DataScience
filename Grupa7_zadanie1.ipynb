{
  "nbformat": 4,
  "nbformat_minor": 0,
  "metadata": {
    "colab": {
      "name": "Grupa7_zadanie1.ipynb",
      "version": "0.3.2",
      "provenance": [],
      "include_colab_link": true
    },
    "language_info": {
      "codemirror_mode": {
        "name": "ipython",
        "version": 3
      },
      "file_extension": ".py",
      "mimetype": "text/x-python",
      "name": "python",
      "nbconvert_exporter": "python",
      "pygments_lexer": "ipython3",
      "version": "3.6.5"
    },
    "kernelspec": {
      "display_name": "Python 3",
      "language": "python",
      "name": "python3"
    }
  },
  "cells": [
    {
      "cell_type": "markdown",
      "metadata": {
        "id": "view-in-github",
        "colab_type": "text"
      },
      "source": [
        "<a href=\"https://colab.research.google.com/github/milySW/DataScience/blob/master/Grupa7_zadanie1.ipynb\" target=\"_parent\"><img src=\"https://colab.research.google.com/assets/colab-badge.svg\" alt=\"Open In Colab\"/></a>"
      ]
    },
    {
      "cell_type": "markdown",
      "metadata": {
        "id": "5G1gTF3wpG7Y",
        "colab_type": "text"
      },
      "source": [
        "# IT market analysis"
      ]
    },
    {
      "cell_type": "code",
      "metadata": {
        "id": "2UYUrbUUpG7Z",
        "colab_type": "code",
        "colab": {}
      },
      "source": [
        "import pandas as pd"
      ],
      "execution_count": 0,
      "outputs": []
    },
    {
      "cell_type": "code",
      "metadata": {
        "id": "_Asj-LcEpG7d",
        "colab_type": "code",
        "colab": {}
      },
      "source": [
        "import numpy as np"
      ],
      "execution_count": 0,
      "outputs": []
    },
    {
      "cell_type": "code",
      "metadata": {
        "id": "KGJ8S3eypG7g",
        "colab_type": "code",
        "colab": {}
      },
      "source": [
        "import matplotlib.pyplot as plt"
      ],
      "execution_count": 0,
      "outputs": []
    },
    {
      "cell_type": "code",
      "metadata": {
        "id": "doVKo0gVpG7l",
        "colab_type": "code",
        "colab": {}
      },
      "source": [
        "from matplotlib.pyplot import figure"
      ],
      "execution_count": 0,
      "outputs": []
    },
    {
      "cell_type": "code",
      "metadata": {
        "id": "KqXVKubTpG7n",
        "colab_type": "code",
        "outputId": "bdb0306e-82b7-44e8-be73-d995aed4b726",
        "colab": {
          "base_uri": "https://localhost:8080/",
          "height": 70
        }
      },
      "source": [
        "df_questions = pd.read_csv('http://bit.ly/stackoverflow-questions-2018', encoding = \"utf-8-sig\")\n",
        "df_answers = pd.read_csv('http://bit.ly/stackoverflow-results-2018', encoding = \"utf-8-sig\")"
      ],
      "execution_count": 0,
      "outputs": [
        {
          "output_type": "stream",
          "text": [
            "/usr/local/lib/python3.6/dist-packages/IPython/core/interactiveshell.py:2718: DtypeWarning: Columns (8,12,13,14,15,16,50,51,52,53,55,56,57,58,59,60,61,62,63,64,65,66,67,68,69,70,71,72,73,74,75,76,77,78,79,80,81,82,83,84,85,93,94,95,96,97,98,99,100,101,102,103,104,105,106,107,108,109,110,111,112,113,114,115,116,117,118,119,120,121,122,123,124,125,126,127,128) have mixed types. Specify dtype option on import or set low_memory=False.\n",
            "  interactivity=interactivity, compiler=compiler, result=result)\n"
          ],
          "name": "stderr"
        }
      ]
    },
    {
      "cell_type": "markdown",
      "metadata": {
        "id": "053hYvFrpG7s",
        "colab_type": "text"
      },
      "source": [
        "## Informacje o danych"
      ]
    },
    {
      "cell_type": "code",
      "metadata": {
        "id": "8nnW01a_pG7s",
        "colab_type": "code",
        "outputId": "98795881-2a66-4e8b-9822-75d9a328d3c3",
        "colab": {
          "base_uri": "https://localhost:8080/",
          "height": 101
        }
      },
      "source": [
        "df_answers.info()"
      ],
      "execution_count": 0,
      "outputs": [
        {
          "output_type": "stream",
          "text": [
            "<class 'pandas.core.frame.DataFrame'>\n",
            "RangeIndex: 98855 entries, 0 to 98854\n",
            "Columns: 129 entries, Respondent to SurveyEasy\n",
            "dtypes: float64(41), int64(1), object(87)\n",
            "memory usage: 97.3+ MB\n"
          ],
          "name": "stdout"
        }
      ]
    },
    {
      "cell_type": "code",
      "metadata": {
        "id": "cNYNjZsbpG7w",
        "colab_type": "code",
        "outputId": "1b967337-a5eb-40a4-ad11-a68887ba80dd",
        "colab": {
          "base_uri": "https://localhost:8080/",
          "height": 722
        }
      },
      "source": [
        "df_answers.dtypes[df_answers.dtypes == 'float64']"
      ],
      "execution_count": 0,
      "outputs": [
        {
          "output_type": "execute_result",
          "data": {
            "text/plain": [
              "AssessJob1               float64\n",
              "AssessJob2               float64\n",
              "AssessJob3               float64\n",
              "AssessJob4               float64\n",
              "AssessJob5               float64\n",
              "AssessJob6               float64\n",
              "AssessJob7               float64\n",
              "AssessJob8               float64\n",
              "AssessJob9               float64\n",
              "AssessJob10              float64\n",
              "AssessBenefits1          float64\n",
              "AssessBenefits2          float64\n",
              "AssessBenefits3          float64\n",
              "AssessBenefits4          float64\n",
              "AssessBenefits5          float64\n",
              "AssessBenefits6          float64\n",
              "AssessBenefits7          float64\n",
              "AssessBenefits8          float64\n",
              "AssessBenefits9          float64\n",
              "AssessBenefits10         float64\n",
              "AssessBenefits11         float64\n",
              "JobContactPriorities1    float64\n",
              "JobContactPriorities2    float64\n",
              "JobContactPriorities3    float64\n",
              "JobContactPriorities4    float64\n",
              "JobContactPriorities5    float64\n",
              "JobEmailPriorities1      float64\n",
              "JobEmailPriorities2      float64\n",
              "JobEmailPriorities3      float64\n",
              "JobEmailPriorities4      float64\n",
              "JobEmailPriorities5      float64\n",
              "JobEmailPriorities6      float64\n",
              "JobEmailPriorities7      float64\n",
              "ConvertedSalary          float64\n",
              "AdsPriorities1           float64\n",
              "AdsPriorities2           float64\n",
              "AdsPriorities3           float64\n",
              "AdsPriorities4           float64\n",
              "AdsPriorities5           float64\n",
              "AdsPriorities6           float64\n",
              "AdsPriorities7           float64\n",
              "dtype: object"
            ]
          },
          "metadata": {
            "tags": []
          },
          "execution_count": 36
        }
      ]
    },
    {
      "cell_type": "code",
      "metadata": {
        "id": "80kh1tWZpG7z",
        "colab_type": "code",
        "outputId": "b5dbd912-a10c-452f-d078-7edeef2d85cb",
        "colab": {
          "base_uri": "https://localhost:8080/",
          "height": 1058
        }
      },
      "source": [
        "df_answers.dtypes[df_answers.dtypes == 'object']"
      ],
      "execution_count": 0,
      "outputs": [
        {
          "output_type": "execute_result",
          "data": {
            "text/plain": [
              "Hobby                          object\n",
              "OpenSource                     object\n",
              "Country                        object\n",
              "Student                        object\n",
              "Employment                     object\n",
              "FormalEducation                object\n",
              "UndergradMajor                 object\n",
              "CompanySize                    object\n",
              "DevType                        object\n",
              "YearsCoding                    object\n",
              "YearsCodingProf                object\n",
              "JobSatisfaction                object\n",
              "CareerSatisfaction             object\n",
              "HopeFiveYears                  object\n",
              "JobSearchStatus                object\n",
              "LastNewJob                     object\n",
              "UpdateCV                       object\n",
              "Currency                       object\n",
              "Salary                         object\n",
              "SalaryType                     object\n",
              "CurrencySymbol                 object\n",
              "CommunicationTools             object\n",
              "TimeFullyProductive            object\n",
              "EducationTypes                 object\n",
              "SelfTaughtTypes                object\n",
              "TimeAfterBootcamp              object\n",
              "HackathonReasons               object\n",
              "AgreeDisagree1                 object\n",
              "AgreeDisagree2                 object\n",
              "AgreeDisagree3                 object\n",
              "                                ...  \n",
              "EthicsResponsible              object\n",
              "EthicalImplications            object\n",
              "StackOverflowRecommend         object\n",
              "StackOverflowVisit             object\n",
              "StackOverflowHasAccount        object\n",
              "StackOverflowParticipate       object\n",
              "StackOverflowJobs              object\n",
              "StackOverflowDevStory          object\n",
              "StackOverflowJobsRecommend     object\n",
              "StackOverflowConsiderMember    object\n",
              "HypotheticalTools1             object\n",
              "HypotheticalTools2             object\n",
              "HypotheticalTools3             object\n",
              "HypotheticalTools4             object\n",
              "HypotheticalTools5             object\n",
              "WakeTime                       object\n",
              "HoursComputer                  object\n",
              "HoursOutside                   object\n",
              "SkipMeals                      object\n",
              "ErgonomicDevices               object\n",
              "Exercise                       object\n",
              "Gender                         object\n",
              "SexualOrientation              object\n",
              "EducationParents               object\n",
              "RaceEthnicity                  object\n",
              "Age                            object\n",
              "Dependents                     object\n",
              "MilitaryUS                     object\n",
              "SurveyTooLong                  object\n",
              "SurveyEasy                     object\n",
              "Length: 87, dtype: object"
            ]
          },
          "metadata": {
            "tags": []
          },
          "execution_count": 37
        }
      ]
    },
    {
      "cell_type": "markdown",
      "metadata": {
        "id": "nkVAWC2RpG72",
        "colab_type": "text"
      },
      "source": [
        "## Dane po ilości wystąpień"
      ]
    },
    {
      "cell_type": "code",
      "metadata": {
        "id": "fyKSmaaXpG73",
        "colab_type": "code",
        "colab": {}
      },
      "source": [
        "def checkAnswersForColumn(columnName, file):\n",
        "    from collections import defaultdict\n",
        "    dataDictionary = defaultdict(lambda: 0)\n",
        "    for i in list(file[columnName][file[columnName].notnull()]):\n",
        "        line = i.split(\";\")\n",
        "        for j in line:\n",
        "            dataDictionary[j] += 1\n",
        "    \n",
        "    d = {columnName: list(dataDictionary.keys()), 'Volume': list(dataDictionary.values())}\n",
        "    df = pd.DataFrame(data=d)\n",
        "\n",
        "    \n",
        "    return df.sort_values('Volume', ascending = False).reset_index(level=-1, drop = True)"
      ],
      "execution_count": 0,
      "outputs": []
    },
    {
      "cell_type": "code",
      "metadata": {
        "id": "VRs8Z3aLpG75",
        "colab_type": "code",
        "outputId": "d5378954-e60e-4daf-f3e4-e730a575eddc",
        "colab": {
          "base_uri": "https://localhost:8080/",
          "height": 698
        }
      },
      "source": [
        "checkAnswersForColumn(\"IDE\", df_answers)"
      ],
      "execution_count": 0,
      "outputs": [
        {
          "output_type": "execute_result",
          "data": {
            "text/html": [
              "<div>\n",
              "<style scoped>\n",
              "    .dataframe tbody tr th:only-of-type {\n",
              "        vertical-align: middle;\n",
              "    }\n",
              "\n",
              "    .dataframe tbody tr th {\n",
              "        vertical-align: top;\n",
              "    }\n",
              "\n",
              "    .dataframe thead th {\n",
              "        text-align: right;\n",
              "    }\n",
              "</style>\n",
              "<table border=\"1\" class=\"dataframe\">\n",
              "  <thead>\n",
              "    <tr style=\"text-align: right;\">\n",
              "      <th></th>\n",
              "      <th>IDE</th>\n",
              "      <th>Volume</th>\n",
              "    </tr>\n",
              "  </thead>\n",
              "  <tbody>\n",
              "    <tr>\n",
              "      <th>0</th>\n",
              "      <td>Visual Studio Code</td>\n",
              "      <td>26280</td>\n",
              "    </tr>\n",
              "    <tr>\n",
              "      <th>1</th>\n",
              "      <td>Visual Studio</td>\n",
              "      <td>25870</td>\n",
              "    </tr>\n",
              "    <tr>\n",
              "      <th>2</th>\n",
              "      <td>Notepad++</td>\n",
              "      <td>25755</td>\n",
              "    </tr>\n",
              "    <tr>\n",
              "      <th>3</th>\n",
              "      <td>Sublime Text</td>\n",
              "      <td>21810</td>\n",
              "    </tr>\n",
              "    <tr>\n",
              "      <th>4</th>\n",
              "      <td>Vim</td>\n",
              "      <td>19477</td>\n",
              "    </tr>\n",
              "    <tr>\n",
              "      <th>5</th>\n",
              "      <td>IntelliJ</td>\n",
              "      <td>18765</td>\n",
              "    </tr>\n",
              "    <tr>\n",
              "      <th>6</th>\n",
              "      <td>Android Studio</td>\n",
              "      <td>14558</td>\n",
              "    </tr>\n",
              "    <tr>\n",
              "      <th>7</th>\n",
              "      <td>Eclipse</td>\n",
              "      <td>14213</td>\n",
              "    </tr>\n",
              "    <tr>\n",
              "      <th>8</th>\n",
              "      <td>Atom</td>\n",
              "      <td>13576</td>\n",
              "    </tr>\n",
              "    <tr>\n",
              "      <th>9</th>\n",
              "      <td>PyCharm</td>\n",
              "      <td>9027</td>\n",
              "    </tr>\n",
              "    <tr>\n",
              "      <th>10</th>\n",
              "      <td>Xcode</td>\n",
              "      <td>7986</td>\n",
              "    </tr>\n",
              "    <tr>\n",
              "      <th>11</th>\n",
              "      <td>PHPStorm</td>\n",
              "      <td>6753</td>\n",
              "    </tr>\n",
              "    <tr>\n",
              "      <th>12</th>\n",
              "      <td>NetBeans</td>\n",
              "      <td>6150</td>\n",
              "    </tr>\n",
              "    <tr>\n",
              "      <th>13</th>\n",
              "      <td>IPython / Jupyter</td>\n",
              "      <td>5602</td>\n",
              "    </tr>\n",
              "    <tr>\n",
              "      <th>14</th>\n",
              "      <td>Emacs</td>\n",
              "      <td>3081</td>\n",
              "    </tr>\n",
              "    <tr>\n",
              "      <th>15</th>\n",
              "      <td>RStudio</td>\n",
              "      <td>2503</td>\n",
              "    </tr>\n",
              "    <tr>\n",
              "      <th>16</th>\n",
              "      <td>RubyMine</td>\n",
              "      <td>1202</td>\n",
              "    </tr>\n",
              "    <tr>\n",
              "      <th>17</th>\n",
              "      <td>TextMate</td>\n",
              "      <td>808</td>\n",
              "    </tr>\n",
              "    <tr>\n",
              "      <th>18</th>\n",
              "      <td>Coda</td>\n",
              "      <td>487</td>\n",
              "    </tr>\n",
              "    <tr>\n",
              "      <th>19</th>\n",
              "      <td>Komodo</td>\n",
              "      <td>431</td>\n",
              "    </tr>\n",
              "    <tr>\n",
              "      <th>20</th>\n",
              "      <td>Zend</td>\n",
              "      <td>299</td>\n",
              "    </tr>\n",
              "    <tr>\n",
              "      <th>21</th>\n",
              "      <td>Light Table</td>\n",
              "      <td>148</td>\n",
              "    </tr>\n",
              "  </tbody>\n",
              "</table>\n",
              "</div>"
            ],
            "text/plain": [
              "                   IDE  Volume\n",
              "0   Visual Studio Code   26280\n",
              "1        Visual Studio   25870\n",
              "2            Notepad++   25755\n",
              "3         Sublime Text   21810\n",
              "4                  Vim   19477\n",
              "5             IntelliJ   18765\n",
              "6       Android Studio   14558\n",
              "7              Eclipse   14213\n",
              "8                 Atom   13576\n",
              "9              PyCharm    9027\n",
              "10               Xcode    7986\n",
              "11            PHPStorm    6753\n",
              "12            NetBeans    6150\n",
              "13   IPython / Jupyter    5602\n",
              "14               Emacs    3081\n",
              "15             RStudio    2503\n",
              "16            RubyMine    1202\n",
              "17            TextMate     808\n",
              "18                Coda     487\n",
              "19              Komodo     431\n",
              "20                Zend     299\n",
              "21         Light Table     148"
            ]
          },
          "metadata": {
            "tags": []
          },
          "execution_count": 39
        }
      ]
    },
    {
      "cell_type": "code",
      "metadata": {
        "id": "aT4A2n_LpG79",
        "colab_type": "code",
        "outputId": "170b799c-eacd-4843-c8d8-30c59c350cd6",
        "colab": {
          "base_uri": "https://localhost:8080/",
          "height": 817
        }
      },
      "source": [
        "checkAnswersForColumn(\"PlatformWorkedWith\", df_answers)"
      ],
      "execution_count": 0,
      "outputs": [
        {
          "output_type": "execute_result",
          "data": {
            "text/html": [
              "<div>\n",
              "<style scoped>\n",
              "    .dataframe tbody tr th:only-of-type {\n",
              "        vertical-align: middle;\n",
              "    }\n",
              "\n",
              "    .dataframe tbody tr th {\n",
              "        vertical-align: top;\n",
              "    }\n",
              "\n",
              "    .dataframe thead th {\n",
              "        text-align: right;\n",
              "    }\n",
              "</style>\n",
              "<table border=\"1\" class=\"dataframe\">\n",
              "  <thead>\n",
              "    <tr style=\"text-align: right;\">\n",
              "      <th></th>\n",
              "      <th>PlatformWorkedWith</th>\n",
              "      <th>Volume</th>\n",
              "    </tr>\n",
              "  </thead>\n",
              "  <tbody>\n",
              "    <tr>\n",
              "      <th>0</th>\n",
              "      <td>Linux</td>\n",
              "      <td>31859</td>\n",
              "    </tr>\n",
              "    <tr>\n",
              "      <th>1</th>\n",
              "      <td>Windows Desktop or Server</td>\n",
              "      <td>23393</td>\n",
              "    </tr>\n",
              "    <tr>\n",
              "      <th>2</th>\n",
              "      <td>Android</td>\n",
              "      <td>19157</td>\n",
              "    </tr>\n",
              "    <tr>\n",
              "      <th>3</th>\n",
              "      <td>AWS</td>\n",
              "      <td>15927</td>\n",
              "    </tr>\n",
              "    <tr>\n",
              "      <th>4</th>\n",
              "      <td>Mac OS</td>\n",
              "      <td>11822</td>\n",
              "    </tr>\n",
              "    <tr>\n",
              "      <th>5</th>\n",
              "      <td>Raspberry Pi</td>\n",
              "      <td>10509</td>\n",
              "    </tr>\n",
              "    <tr>\n",
              "      <th>6</th>\n",
              "      <td>WordPress</td>\n",
              "      <td>10486</td>\n",
              "    </tr>\n",
              "    <tr>\n",
              "      <th>7</th>\n",
              "      <td>iOS</td>\n",
              "      <td>10201</td>\n",
              "    </tr>\n",
              "    <tr>\n",
              "      <th>8</th>\n",
              "      <td>Firebase</td>\n",
              "      <td>9575</td>\n",
              "    </tr>\n",
              "    <tr>\n",
              "      <th>9</th>\n",
              "      <td>Azure</td>\n",
              "      <td>7267</td>\n",
              "    </tr>\n",
              "    <tr>\n",
              "      <th>10</th>\n",
              "      <td>Arduino</td>\n",
              "      <td>7006</td>\n",
              "    </tr>\n",
              "    <tr>\n",
              "      <th>11</th>\n",
              "      <td>Heroku</td>\n",
              "      <td>6913</td>\n",
              "    </tr>\n",
              "    <tr>\n",
              "      <th>12</th>\n",
              "      <td>Google Cloud Platform/App Engine</td>\n",
              "      <td>5302</td>\n",
              "    </tr>\n",
              "    <tr>\n",
              "      <th>13</th>\n",
              "      <td>Serverless</td>\n",
              "      <td>2987</td>\n",
              "    </tr>\n",
              "    <tr>\n",
              "      <th>14</th>\n",
              "      <td>Drupal</td>\n",
              "      <td>2010</td>\n",
              "    </tr>\n",
              "    <tr>\n",
              "      <th>15</th>\n",
              "      <td>Amazon Echo</td>\n",
              "      <td>1938</td>\n",
              "    </tr>\n",
              "    <tr>\n",
              "      <th>16</th>\n",
              "      <td>Windows Phone</td>\n",
              "      <td>1800</td>\n",
              "    </tr>\n",
              "    <tr>\n",
              "      <th>17</th>\n",
              "      <td>SharePoint</td>\n",
              "      <td>1766</td>\n",
              "    </tr>\n",
              "    <tr>\n",
              "      <th>18</th>\n",
              "      <td>ESP8266</td>\n",
              "      <td>1466</td>\n",
              "    </tr>\n",
              "    <tr>\n",
              "      <th>19</th>\n",
              "      <td>Salesforce</td>\n",
              "      <td>1457</td>\n",
              "    </tr>\n",
              "    <tr>\n",
              "      <th>20</th>\n",
              "      <td>Apple Watch or Apple TV</td>\n",
              "      <td>1266</td>\n",
              "    </tr>\n",
              "    <tr>\n",
              "      <th>21</th>\n",
              "      <td>IBM Cloud or Watson</td>\n",
              "      <td>950</td>\n",
              "    </tr>\n",
              "    <tr>\n",
              "      <th>22</th>\n",
              "      <td>Google Home</td>\n",
              "      <td>892</td>\n",
              "    </tr>\n",
              "    <tr>\n",
              "      <th>23</th>\n",
              "      <td>Gaming console</td>\n",
              "      <td>850</td>\n",
              "    </tr>\n",
              "    <tr>\n",
              "      <th>24</th>\n",
              "      <td>Mainframe</td>\n",
              "      <td>533</td>\n",
              "    </tr>\n",
              "    <tr>\n",
              "      <th>25</th>\n",
              "      <td>Predix</td>\n",
              "      <td>110</td>\n",
              "    </tr>\n",
              "  </tbody>\n",
              "</table>\n",
              "</div>"
            ],
            "text/plain": [
              "                  PlatformWorkedWith  Volume\n",
              "0                              Linux   31859\n",
              "1          Windows Desktop or Server   23393\n",
              "2                            Android   19157\n",
              "3                                AWS   15927\n",
              "4                             Mac OS   11822\n",
              "5                       Raspberry Pi   10509\n",
              "6                          WordPress   10486\n",
              "7                                iOS   10201\n",
              "8                           Firebase    9575\n",
              "9                              Azure    7267\n",
              "10                           Arduino    7006\n",
              "11                            Heroku    6913\n",
              "12  Google Cloud Platform/App Engine    5302\n",
              "13                        Serverless    2987\n",
              "14                            Drupal    2010\n",
              "15                       Amazon Echo    1938\n",
              "16                     Windows Phone    1800\n",
              "17                        SharePoint    1766\n",
              "18                           ESP8266    1466\n",
              "19                        Salesforce    1457\n",
              "20           Apple Watch or Apple TV    1266\n",
              "21               IBM Cloud or Watson     950\n",
              "22                       Google Home     892\n",
              "23                    Gaming console     850\n",
              "24                         Mainframe     533\n",
              "25                            Predix     110"
            ]
          },
          "metadata": {
            "tags": []
          },
          "execution_count": 40
        }
      ]
    },
    {
      "cell_type": "code",
      "metadata": {
        "id": "WxdPivrqpG8A",
        "colab_type": "code",
        "outputId": "0050ea21-9181-415e-9121-a588891c2ee2",
        "colab": {
          "base_uri": "https://localhost:8080/",
          "height": 402
        }
      },
      "source": [
        "checkAnswersForColumn(\"FrameworkWorkedWith\", df_answers)"
      ],
      "execution_count": 0,
      "outputs": [
        {
          "output_type": "execute_result",
          "data": {
            "text/html": [
              "<div>\n",
              "<style scoped>\n",
              "    .dataframe tbody tr th:only-of-type {\n",
              "        vertical-align: middle;\n",
              "    }\n",
              "\n",
              "    .dataframe tbody tr th {\n",
              "        vertical-align: top;\n",
              "    }\n",
              "\n",
              "    .dataframe thead th {\n",
              "        text-align: right;\n",
              "    }\n",
              "</style>\n",
              "<table border=\"1\" class=\"dataframe\">\n",
              "  <thead>\n",
              "    <tr style=\"text-align: right;\">\n",
              "      <th></th>\n",
              "      <th>FrameworkWorkedWith</th>\n",
              "      <th>Volume</th>\n",
              "    </tr>\n",
              "  </thead>\n",
              "  <tbody>\n",
              "    <tr>\n",
              "      <th>0</th>\n",
              "      <td>Node.js</td>\n",
              "      <td>25598</td>\n",
              "    </tr>\n",
              "    <tr>\n",
              "      <th>1</th>\n",
              "      <td>Angular</td>\n",
              "      <td>19023</td>\n",
              "    </tr>\n",
              "    <tr>\n",
              "      <th>2</th>\n",
              "      <td>React</td>\n",
              "      <td>14337</td>\n",
              "    </tr>\n",
              "    <tr>\n",
              "      <th>3</th>\n",
              "      <td>.NET Core</td>\n",
              "      <td>14026</td>\n",
              "    </tr>\n",
              "    <tr>\n",
              "      <th>4</th>\n",
              "      <td>Spring</td>\n",
              "      <td>9079</td>\n",
              "    </tr>\n",
              "    <tr>\n",
              "      <th>5</th>\n",
              "      <td>Django</td>\n",
              "      <td>6723</td>\n",
              "    </tr>\n",
              "    <tr>\n",
              "      <th>6</th>\n",
              "      <td>Cordova</td>\n",
              "      <td>4369</td>\n",
              "    </tr>\n",
              "    <tr>\n",
              "      <th>7</th>\n",
              "      <td>TensorFlow</td>\n",
              "      <td>4026</td>\n",
              "    </tr>\n",
              "    <tr>\n",
              "      <th>8</th>\n",
              "      <td>Xamarin</td>\n",
              "      <td>3796</td>\n",
              "    </tr>\n",
              "    <tr>\n",
              "      <th>9</th>\n",
              "      <td>Spark</td>\n",
              "      <td>2475</td>\n",
              "    </tr>\n",
              "    <tr>\n",
              "      <th>10</th>\n",
              "      <td>Hadoop</td>\n",
              "      <td>2447</td>\n",
              "    </tr>\n",
              "    <tr>\n",
              "      <th>11</th>\n",
              "      <td>Torch/PyTorch</td>\n",
              "      <td>868</td>\n",
              "    </tr>\n",
              "  </tbody>\n",
              "</table>\n",
              "</div>"
            ],
            "text/plain": [
              "   FrameworkWorkedWith  Volume\n",
              "0              Node.js   25598\n",
              "1              Angular   19023\n",
              "2                React   14337\n",
              "3            .NET Core   14026\n",
              "4               Spring    9079\n",
              "5               Django    6723\n",
              "6              Cordova    4369\n",
              "7           TensorFlow    4026\n",
              "8              Xamarin    3796\n",
              "9                Spark    2475\n",
              "10              Hadoop    2447\n",
              "11       Torch/PyTorch     868"
            ]
          },
          "metadata": {
            "tags": []
          },
          "execution_count": 41
        }
      ]
    },
    {
      "cell_type": "code",
      "metadata": {
        "id": "6_yRyAdxpG8E",
        "colab_type": "code",
        "outputId": "a37c2617-48be-412b-a18b-0c1c958b51ed",
        "colab": {
          "base_uri": "https://localhost:8080/",
          "height": 166
        }
      },
      "source": [
        "checkAnswersForColumn(\"OperatingSystem\", df_answers)"
      ],
      "execution_count": 0,
      "outputs": [
        {
          "output_type": "execute_result",
          "data": {
            "text/html": [
              "<div>\n",
              "<style scoped>\n",
              "    .dataframe tbody tr th:only-of-type {\n",
              "        vertical-align: middle;\n",
              "    }\n",
              "\n",
              "    .dataframe tbody tr th {\n",
              "        vertical-align: top;\n",
              "    }\n",
              "\n",
              "    .dataframe thead th {\n",
              "        text-align: right;\n",
              "    }\n",
              "</style>\n",
              "<table border=\"1\" class=\"dataframe\">\n",
              "  <thead>\n",
              "    <tr style=\"text-align: right;\">\n",
              "      <th></th>\n",
              "      <th>OperatingSystem</th>\n",
              "      <th>Volume</th>\n",
              "    </tr>\n",
              "  </thead>\n",
              "  <tbody>\n",
              "    <tr>\n",
              "      <th>0</th>\n",
              "      <td>Windows</td>\n",
              "      <td>38022</td>\n",
              "    </tr>\n",
              "    <tr>\n",
              "      <th>1</th>\n",
              "      <td>MacOS</td>\n",
              "      <td>20325</td>\n",
              "    </tr>\n",
              "    <tr>\n",
              "      <th>2</th>\n",
              "      <td>Linux-based</td>\n",
              "      <td>17684</td>\n",
              "    </tr>\n",
              "    <tr>\n",
              "      <th>3</th>\n",
              "      <td>BSD/Unix</td>\n",
              "      <td>148</td>\n",
              "    </tr>\n",
              "  </tbody>\n",
              "</table>\n",
              "</div>"
            ],
            "text/plain": [
              "  OperatingSystem  Volume\n",
              "0         Windows   38022\n",
              "1           MacOS   20325\n",
              "2     Linux-based   17684\n",
              "3        BSD/Unix     148"
            ]
          },
          "metadata": {
            "tags": []
          },
          "execution_count": 42
        }
      ]
    },
    {
      "cell_type": "code",
      "metadata": {
        "id": "sdHS1MpmpG8I",
        "colab_type": "code",
        "outputId": "9622c2cc-4455-47e9-835b-6a85b347c3e2",
        "colab": {
          "base_uri": "https://localhost:8080/",
          "height": 106
        }
      },
      "source": [
        "checkAnswersForColumn(\"OpenSource\", df_answers)"
      ],
      "execution_count": 0,
      "outputs": [
        {
          "output_type": "execute_result",
          "data": {
            "text/html": [
              "<div>\n",
              "<style scoped>\n",
              "    .dataframe tbody tr th:only-of-type {\n",
              "        vertical-align: middle;\n",
              "    }\n",
              "\n",
              "    .dataframe tbody tr th {\n",
              "        vertical-align: top;\n",
              "    }\n",
              "\n",
              "    .dataframe thead th {\n",
              "        text-align: right;\n",
              "    }\n",
              "</style>\n",
              "<table border=\"1\" class=\"dataframe\">\n",
              "  <thead>\n",
              "    <tr style=\"text-align: right;\">\n",
              "      <th></th>\n",
              "      <th>OpenSource</th>\n",
              "      <th>Volume</th>\n",
              "    </tr>\n",
              "  </thead>\n",
              "  <tbody>\n",
              "    <tr>\n",
              "      <th>0</th>\n",
              "      <td>No</td>\n",
              "      <td>55769</td>\n",
              "    </tr>\n",
              "    <tr>\n",
              "      <th>1</th>\n",
              "      <td>Yes</td>\n",
              "      <td>43086</td>\n",
              "    </tr>\n",
              "  </tbody>\n",
              "</table>\n",
              "</div>"
            ],
            "text/plain": [
              "  OpenSource  Volume\n",
              "0         No   55769\n",
              "1        Yes   43086"
            ]
          },
          "metadata": {
            "tags": []
          },
          "execution_count": 43
        }
      ]
    },
    {
      "cell_type": "code",
      "metadata": {
        "id": "sUK3cIPHpG8M",
        "colab_type": "code",
        "outputId": "00f46111-74c2-4ed9-d933-4b4ee41e8da4",
        "colab": {
          "base_uri": "https://localhost:8080/",
          "height": 136
        }
      },
      "source": [
        "checkAnswersForColumn(\"Student\", df_answers)"
      ],
      "execution_count": 0,
      "outputs": [
        {
          "output_type": "execute_result",
          "data": {
            "text/html": [
              "<div>\n",
              "<style scoped>\n",
              "    .dataframe tbody tr th:only-of-type {\n",
              "        vertical-align: middle;\n",
              "    }\n",
              "\n",
              "    .dataframe tbody tr th {\n",
              "        vertical-align: top;\n",
              "    }\n",
              "\n",
              "    .dataframe thead th {\n",
              "        text-align: right;\n",
              "    }\n",
              "</style>\n",
              "<table border=\"1\" class=\"dataframe\">\n",
              "  <thead>\n",
              "    <tr style=\"text-align: right;\">\n",
              "      <th></th>\n",
              "      <th>Student</th>\n",
              "      <th>Volume</th>\n",
              "    </tr>\n",
              "  </thead>\n",
              "  <tbody>\n",
              "    <tr>\n",
              "      <th>0</th>\n",
              "      <td>No</td>\n",
              "      <td>70399</td>\n",
              "    </tr>\n",
              "    <tr>\n",
              "      <th>1</th>\n",
              "      <td>Yes, full-time</td>\n",
              "      <td>18394</td>\n",
              "    </tr>\n",
              "    <tr>\n",
              "      <th>2</th>\n",
              "      <td>Yes, part-time</td>\n",
              "      <td>6108</td>\n",
              "    </tr>\n",
              "  </tbody>\n",
              "</table>\n",
              "</div>"
            ],
            "text/plain": [
              "          Student  Volume\n",
              "0              No   70399\n",
              "1  Yes, full-time   18394\n",
              "2  Yes, part-time    6108"
            ]
          },
          "metadata": {
            "tags": []
          },
          "execution_count": 44
        }
      ]
    },
    {
      "cell_type": "code",
      "metadata": {
        "id": "SftauSqSpG8P",
        "colab_type": "code",
        "outputId": "7c979d93-cbac-4755-e7cb-a938909351b7",
        "colab": {
          "base_uri": "https://localhost:8080/",
          "height": 343
        }
      },
      "source": [
        "checkAnswersForColumn(\"Country\", df_answers).head(10)"
      ],
      "execution_count": 0,
      "outputs": [
        {
          "output_type": "execute_result",
          "data": {
            "text/html": [
              "<div>\n",
              "<style scoped>\n",
              "    .dataframe tbody tr th:only-of-type {\n",
              "        vertical-align: middle;\n",
              "    }\n",
              "\n",
              "    .dataframe tbody tr th {\n",
              "        vertical-align: top;\n",
              "    }\n",
              "\n",
              "    .dataframe thead th {\n",
              "        text-align: right;\n",
              "    }\n",
              "</style>\n",
              "<table border=\"1\" class=\"dataframe\">\n",
              "  <thead>\n",
              "    <tr style=\"text-align: right;\">\n",
              "      <th></th>\n",
              "      <th>Country</th>\n",
              "      <th>Volume</th>\n",
              "    </tr>\n",
              "  </thead>\n",
              "  <tbody>\n",
              "    <tr>\n",
              "      <th>0</th>\n",
              "      <td>United States</td>\n",
              "      <td>20309</td>\n",
              "    </tr>\n",
              "    <tr>\n",
              "      <th>1</th>\n",
              "      <td>India</td>\n",
              "      <td>13721</td>\n",
              "    </tr>\n",
              "    <tr>\n",
              "      <th>2</th>\n",
              "      <td>Germany</td>\n",
              "      <td>6459</td>\n",
              "    </tr>\n",
              "    <tr>\n",
              "      <th>3</th>\n",
              "      <td>United Kingdom</td>\n",
              "      <td>6221</td>\n",
              "    </tr>\n",
              "    <tr>\n",
              "      <th>4</th>\n",
              "      <td>Canada</td>\n",
              "      <td>3393</td>\n",
              "    </tr>\n",
              "    <tr>\n",
              "      <th>5</th>\n",
              "      <td>Russian Federation</td>\n",
              "      <td>2869</td>\n",
              "    </tr>\n",
              "    <tr>\n",
              "      <th>6</th>\n",
              "      <td>France</td>\n",
              "      <td>2572</td>\n",
              "    </tr>\n",
              "    <tr>\n",
              "      <th>7</th>\n",
              "      <td>Brazil</td>\n",
              "      <td>2505</td>\n",
              "    </tr>\n",
              "    <tr>\n",
              "      <th>8</th>\n",
              "      <td>Poland</td>\n",
              "      <td>2122</td>\n",
              "    </tr>\n",
              "    <tr>\n",
              "      <th>9</th>\n",
              "      <td>Australia</td>\n",
              "      <td>2018</td>\n",
              "    </tr>\n",
              "  </tbody>\n",
              "</table>\n",
              "</div>"
            ],
            "text/plain": [
              "              Country  Volume\n",
              "0       United States   20309\n",
              "1               India   13721\n",
              "2             Germany    6459\n",
              "3      United Kingdom    6221\n",
              "4              Canada    3393\n",
              "5  Russian Federation    2869\n",
              "6              France    2572\n",
              "7              Brazil    2505\n",
              "8              Poland    2122\n",
              "9           Australia    2018"
            ]
          },
          "metadata": {
            "tags": []
          },
          "execution_count": 45
        }
      ]
    },
    {
      "cell_type": "code",
      "metadata": {
        "id": "LUJHJw8zpG8U",
        "colab_type": "code",
        "outputId": "1cd3fea5-5804-48d2-93f2-0cedca4513aa",
        "colab": {
          "base_uri": "https://localhost:8080/",
          "height": 314
        }
      },
      "source": [
        "checkAnswersForColumn(\"FormalEducation\", df_answers)"
      ],
      "execution_count": 0,
      "outputs": [
        {
          "output_type": "execute_result",
          "data": {
            "text/html": [
              "<div>\n",
              "<style scoped>\n",
              "    .dataframe tbody tr th:only-of-type {\n",
              "        vertical-align: middle;\n",
              "    }\n",
              "\n",
              "    .dataframe tbody tr th {\n",
              "        vertical-align: top;\n",
              "    }\n",
              "\n",
              "    .dataframe thead th {\n",
              "        text-align: right;\n",
              "    }\n",
              "</style>\n",
              "<table border=\"1\" class=\"dataframe\">\n",
              "  <thead>\n",
              "    <tr style=\"text-align: right;\">\n",
              "      <th></th>\n",
              "      <th>FormalEducation</th>\n",
              "      <th>Volume</th>\n",
              "    </tr>\n",
              "  </thead>\n",
              "  <tbody>\n",
              "    <tr>\n",
              "      <th>0</th>\n",
              "      <td>Bachelor’s degree (BA, BS, B.Eng., etc.)</td>\n",
              "      <td>43659</td>\n",
              "    </tr>\n",
              "    <tr>\n",
              "      <th>1</th>\n",
              "      <td>Master’s degree (MA, MS, M.Eng., MBA, etc.)</td>\n",
              "      <td>21396</td>\n",
              "    </tr>\n",
              "    <tr>\n",
              "      <th>2</th>\n",
              "      <td>Some college/university study without earning ...</td>\n",
              "      <td>11710</td>\n",
              "    </tr>\n",
              "    <tr>\n",
              "      <th>3</th>\n",
              "      <td>Secondary school (e.g. American high school, G...</td>\n",
              "      <td>8951</td>\n",
              "    </tr>\n",
              "    <tr>\n",
              "      <th>4</th>\n",
              "      <td>Associate degree</td>\n",
              "      <td>2970</td>\n",
              "    </tr>\n",
              "    <tr>\n",
              "      <th>5</th>\n",
              "      <td>Other doctoral degree (Ph.D, Ed.D., etc.)</td>\n",
              "      <td>2214</td>\n",
              "    </tr>\n",
              "    <tr>\n",
              "      <th>6</th>\n",
              "      <td>Primary/elementary school</td>\n",
              "      <td>1656</td>\n",
              "    </tr>\n",
              "    <tr>\n",
              "      <th>7</th>\n",
              "      <td>Professional degree (JD, MD, etc.)</td>\n",
              "      <td>1447</td>\n",
              "    </tr>\n",
              "    <tr>\n",
              "      <th>8</th>\n",
              "      <td>I never completed any formal education</td>\n",
              "      <td>700</td>\n",
              "    </tr>\n",
              "  </tbody>\n",
              "</table>\n",
              "</div>"
            ],
            "text/plain": [
              "                                     FormalEducation  Volume\n",
              "0           Bachelor’s degree (BA, BS, B.Eng., etc.)   43659\n",
              "1        Master’s degree (MA, MS, M.Eng., MBA, etc.)   21396\n",
              "2  Some college/university study without earning ...   11710\n",
              "3  Secondary school (e.g. American high school, G...    8951\n",
              "4                                   Associate degree    2970\n",
              "5          Other doctoral degree (Ph.D, Ed.D., etc.)    2214\n",
              "6                          Primary/elementary school    1656\n",
              "7                 Professional degree (JD, MD, etc.)    1447\n",
              "8             I never completed any formal education     700"
            ]
          },
          "metadata": {
            "tags": []
          },
          "execution_count": 46
        }
      ]
    },
    {
      "cell_type": "code",
      "metadata": {
        "id": "daT1OLY0pG8Y",
        "colab_type": "code",
        "outputId": "bd36da49-ccee-4b99-c0bd-49e07e0816b6",
        "colab": {
          "base_uri": "https://localhost:8080/",
          "height": 254
        }
      },
      "source": [
        "checkAnswersForColumn(\"JobSatisfaction\", df_answers)"
      ],
      "execution_count": 0,
      "outputs": [
        {
          "output_type": "execute_result",
          "data": {
            "text/html": [
              "<div>\n",
              "<style scoped>\n",
              "    .dataframe tbody tr th:only-of-type {\n",
              "        vertical-align: middle;\n",
              "    }\n",
              "\n",
              "    .dataframe tbody tr th {\n",
              "        vertical-align: top;\n",
              "    }\n",
              "\n",
              "    .dataframe thead th {\n",
              "        text-align: right;\n",
              "    }\n",
              "</style>\n",
              "<table border=\"1\" class=\"dataframe\">\n",
              "  <thead>\n",
              "    <tr style=\"text-align: right;\">\n",
              "      <th></th>\n",
              "      <th>JobSatisfaction</th>\n",
              "      <th>Volume</th>\n",
              "    </tr>\n",
              "  </thead>\n",
              "  <tbody>\n",
              "    <tr>\n",
              "      <th>0</th>\n",
              "      <td>Moderately satisfied</td>\n",
              "      <td>26005</td>\n",
              "    </tr>\n",
              "    <tr>\n",
              "      <th>1</th>\n",
              "      <td>Extremely satisfied</td>\n",
              "      <td>12436</td>\n",
              "    </tr>\n",
              "    <tr>\n",
              "      <th>2</th>\n",
              "      <td>Slightly satisfied</td>\n",
              "      <td>10012</td>\n",
              "    </tr>\n",
              "    <tr>\n",
              "      <th>3</th>\n",
              "      <td>Slightly dissatisfied</td>\n",
              "      <td>7057</td>\n",
              "    </tr>\n",
              "    <tr>\n",
              "      <th>4</th>\n",
              "      <td>Moderately dissatisfied</td>\n",
              "      <td>6318</td>\n",
              "    </tr>\n",
              "    <tr>\n",
              "      <th>5</th>\n",
              "      <td>Neither satisfied nor dissatisfied</td>\n",
              "      <td>4966</td>\n",
              "    </tr>\n",
              "    <tr>\n",
              "      <th>6</th>\n",
              "      <td>Extremely dissatisfied</td>\n",
              "      <td>2482</td>\n",
              "    </tr>\n",
              "  </tbody>\n",
              "</table>\n",
              "</div>"
            ],
            "text/plain": [
              "                      JobSatisfaction  Volume\n",
              "0                Moderately satisfied   26005\n",
              "1                 Extremely satisfied   12436\n",
              "2                  Slightly satisfied   10012\n",
              "3               Slightly dissatisfied    7057\n",
              "4             Moderately dissatisfied    6318\n",
              "5  Neither satisfied nor dissatisfied    4966\n",
              "6              Extremely dissatisfied    2482"
            ]
          },
          "metadata": {
            "tags": []
          },
          "execution_count": 47
        }
      ]
    },
    {
      "cell_type": "code",
      "metadata": {
        "id": "jszK2emmpG8b",
        "colab_type": "code",
        "outputId": "a6720134-9fba-48e5-f67c-945c6900cf61",
        "colab": {
          "base_uri": "https://localhost:8080/",
          "height": 225
        }
      },
      "source": [
        "checkAnswersForColumn(\"StackOverflowVisit\", df_answers)"
      ],
      "execution_count": 0,
      "outputs": [
        {
          "output_type": "execute_result",
          "data": {
            "text/html": [
              "<div>\n",
              "<style scoped>\n",
              "    .dataframe tbody tr th:only-of-type {\n",
              "        vertical-align: middle;\n",
              "    }\n",
              "\n",
              "    .dataframe tbody tr th {\n",
              "        vertical-align: top;\n",
              "    }\n",
              "\n",
              "    .dataframe thead th {\n",
              "        text-align: right;\n",
              "    }\n",
              "</style>\n",
              "<table border=\"1\" class=\"dataframe\">\n",
              "  <thead>\n",
              "    <tr style=\"text-align: right;\">\n",
              "      <th></th>\n",
              "      <th>StackOverflowVisit</th>\n",
              "      <th>Volume</th>\n",
              "    </tr>\n",
              "  </thead>\n",
              "  <tbody>\n",
              "    <tr>\n",
              "      <th>0</th>\n",
              "      <td>Daily or almost daily</td>\n",
              "      <td>24964</td>\n",
              "    </tr>\n",
              "    <tr>\n",
              "      <th>1</th>\n",
              "      <td>Multiple times per day</td>\n",
              "      <td>23864</td>\n",
              "    </tr>\n",
              "    <tr>\n",
              "      <th>2</th>\n",
              "      <td>A few times per week</td>\n",
              "      <td>17179</td>\n",
              "    </tr>\n",
              "    <tr>\n",
              "      <th>3</th>\n",
              "      <td>A few times per month or weekly</td>\n",
              "      <td>8819</td>\n",
              "    </tr>\n",
              "    <tr>\n",
              "      <th>4</th>\n",
              "      <td>Less than once per month or monthly</td>\n",
              "      <td>1564</td>\n",
              "    </tr>\n",
              "    <tr>\n",
              "      <th>5</th>\n",
              "      <td>I have never visited Stack Overflow (before to...</td>\n",
              "      <td>421</td>\n",
              "    </tr>\n",
              "  </tbody>\n",
              "</table>\n",
              "</div>"
            ],
            "text/plain": [
              "                                  StackOverflowVisit  Volume\n",
              "0                              Daily or almost daily   24964\n",
              "1                             Multiple times per day   23864\n",
              "2                               A few times per week   17179\n",
              "3                    A few times per month or weekly    8819\n",
              "4                Less than once per month or monthly    1564\n",
              "5  I have never visited Stack Overflow (before to...     421"
            ]
          },
          "metadata": {
            "tags": []
          },
          "execution_count": 48
        }
      ]
    },
    {
      "cell_type": "code",
      "metadata": {
        "id": "NdYmqvlNpG8e",
        "colab_type": "code",
        "outputId": "75bfceda-e1d5-43d0-b469-44d1b1e11551",
        "colab": {
          "base_uri": "https://localhost:8080/",
          "height": 254
        }
      },
      "source": [
        "checkAnswersForColumn(\"Age\", df_answers)"
      ],
      "execution_count": 0,
      "outputs": [
        {
          "output_type": "execute_result",
          "data": {
            "text/html": [
              "<div>\n",
              "<style scoped>\n",
              "    .dataframe tbody tr th:only-of-type {\n",
              "        vertical-align: middle;\n",
              "    }\n",
              "\n",
              "    .dataframe tbody tr th {\n",
              "        vertical-align: top;\n",
              "    }\n",
              "\n",
              "    .dataframe thead th {\n",
              "        text-align: right;\n",
              "    }\n",
              "</style>\n",
              "<table border=\"1\" class=\"dataframe\">\n",
              "  <thead>\n",
              "    <tr style=\"text-align: right;\">\n",
              "      <th></th>\n",
              "      <th>Age</th>\n",
              "      <th>Volume</th>\n",
              "    </tr>\n",
              "  </thead>\n",
              "  <tbody>\n",
              "    <tr>\n",
              "      <th>0</th>\n",
              "      <td>25 - 34 years old</td>\n",
              "      <td>31759</td>\n",
              "    </tr>\n",
              "    <tr>\n",
              "      <th>1</th>\n",
              "      <td>18 - 24 years old</td>\n",
              "      <td>15249</td>\n",
              "    </tr>\n",
              "    <tr>\n",
              "      <th>2</th>\n",
              "      <td>35 - 44 years old</td>\n",
              "      <td>11477</td>\n",
              "    </tr>\n",
              "    <tr>\n",
              "      <th>3</th>\n",
              "      <td>45 - 54 years old</td>\n",
              "      <td>3313</td>\n",
              "    </tr>\n",
              "    <tr>\n",
              "      <th>4</th>\n",
              "      <td>Under 18 years old</td>\n",
              "      <td>1638</td>\n",
              "    </tr>\n",
              "    <tr>\n",
              "      <th>5</th>\n",
              "      <td>55 - 64 years old</td>\n",
              "      <td>959</td>\n",
              "    </tr>\n",
              "    <tr>\n",
              "      <th>6</th>\n",
              "      <td>65 years or older</td>\n",
              "      <td>179</td>\n",
              "    </tr>\n",
              "  </tbody>\n",
              "</table>\n",
              "</div>"
            ],
            "text/plain": [
              "                  Age  Volume\n",
              "0   25 - 34 years old   31759\n",
              "1   18 - 24 years old   15249\n",
              "2   35 - 44 years old   11477\n",
              "3   45 - 54 years old    3313\n",
              "4  Under 18 years old    1638\n",
              "5   55 - 64 years old     959\n",
              "6   65 years or older     179"
            ]
          },
          "metadata": {
            "tags": []
          },
          "execution_count": 49
        }
      ]
    },
    {
      "cell_type": "markdown",
      "metadata": {
        "id": "XI0Ylk-CpG8g",
        "colab_type": "text"
      },
      "source": [
        "## Średnia lat doświadczenia"
      ]
    },
    {
      "cell_type": "code",
      "metadata": {
        "id": "rgOuIh8qpG8h",
        "colab_type": "code",
        "colab": {}
      },
      "source": [
        "def checkYears(yearsData):\n",
        "    average = 0\n",
        "    counter = 0\n",
        "    for i in yearsData:\n",
        "        for j in i.split(\" \"):\n",
        "          if \"-\" in j:\n",
        "            numbers = j.split(\"-\")\n",
        "            average += (int(numbers[0]) + int(numbers[1]))/2\n",
        "            counter += 1\n",
        "          elif j.isdigit() == True:\n",
        "            average += int(j)\n",
        "            counter += 1\n",
        "                \n",
        "    if counter != 0:\n",
        "        average /= counter\n",
        "        \n",
        "    return average"
      ],
      "execution_count": 0,
      "outputs": []
    },
    {
      "cell_type": "code",
      "metadata": {
        "id": "YBMM6B1xpG8k",
        "colab_type": "code",
        "colab": {}
      },
      "source": [
        "yearsCodingData = df_answers.YearsCoding[df_answers.YearsCoding.notnull()]\n",
        "yearsProfCodingData = df_answers.YearsCodingProf[df_answers.YearsCodingProf.notnull()]"
      ],
      "execution_count": 0,
      "outputs": []
    },
    {
      "cell_type": "code",
      "metadata": {
        "id": "1O1S5jgHpG8m",
        "colab_type": "code",
        "outputId": "e90a7b69-4841-4a7f-9b92-f9d344212a9b",
        "colab": {
          "base_uri": "https://localhost:8080/",
          "height": 34
        }
      },
      "source": [
        "checkYears(yearsCodingData)"
      ],
      "execution_count": 0,
      "outputs": [
        {
          "output_type": "execute_result",
          "data": {
            "text/plain": [
              "9.595843768316726"
            ]
          },
          "metadata": {
            "tags": []
          },
          "execution_count": 52
        }
      ]
    },
    {
      "cell_type": "code",
      "metadata": {
        "id": "vMAuhMyzpG8p",
        "colab_type": "code",
        "outputId": "99c46a35-9782-4bbf-a62f-5fc6e389686c",
        "colab": {
          "base_uri": "https://localhost:8080/",
          "height": 34
        }
      },
      "source": [
        "checkYears(yearsProfCodingData)\n"
      ],
      "execution_count": 0,
      "outputs": [
        {
          "output_type": "execute_result",
          "data": {
            "text/plain": [
              "6.7614340911133075"
            ]
          },
          "metadata": {
            "tags": []
          },
          "execution_count": 53
        }
      ]
    },
    {
      "cell_type": "markdown",
      "metadata": {
        "id": "T8E9tYpLpG8t",
        "colab_type": "text"
      },
      "source": [
        "## Średnie zarobki"
      ]
    },
    {
      "cell_type": "code",
      "metadata": {
        "id": "ub6j6i9xpG8u",
        "colab_type": "code",
        "outputId": "21e881fc-f4d1-44bd-d649-815b9a8a4823",
        "colab": {
          "base_uri": "https://localhost:8080/",
          "height": 34
        }
      },
      "source": [
        "df_answers.ConvertedSalary.mean()"
      ],
      "execution_count": 0,
      "outputs": [
        {
          "output_type": "execute_result",
          "data": {
            "text/plain": [
              "95780.86178776571"
            ]
          },
          "metadata": {
            "tags": []
          },
          "execution_count": 54
        }
      ]
    },
    {
      "cell_type": "markdown",
      "metadata": {
        "id": "UfklEjDnpG8x",
        "colab_type": "text"
      },
      "source": [
        "## Średnie zarobki uzależnione od wieku dla 10 krajów, które udzieliły najwięcej odpowiedzi"
      ]
    },
    {
      "cell_type": "code",
      "metadata": {
        "id": "BrIiPMmypG8y",
        "colab_type": "code",
        "outputId": "fb0a0197-32e4-4c99-8385-c4fdc7c91259",
        "colab": {
          "base_uri": "https://localhost:8080/",
          "height": 1911
        }
      },
      "source": [
        "perCountry = df_answers[['Country', 'Age', 'ConvertedSalary']][np.logical_and\n",
        "                        (df_answers[\"Age\"].notnull(), df_answers[\"ConvertedSalary\"].notnull())]\n",
        "\n",
        "countryList = list(perCountry[\"Country\"].value_counts().head(10).to_dict().keys())\n",
        "\n",
        "perCountry = perCountry[perCountry[\"Country\"].isin(countryList)]\n",
        "for i in range(len(perCountry)):\n",
        "    if perCountry[\"Age\"].values[i] == \"25 - 34 years old\": \n",
        "        perCountry[\"Age\"].values[i] = 30\n",
        "        \n",
        "    elif perCountry[\"Age\"].values[i] == \"35 - 44 years old\": \n",
        "        perCountry[\"Age\"].values[i] = 40\n",
        "        \n",
        "    elif perCountry[\"Age\"].values[i] == \"18 - 24 years old\": \n",
        "        perCountry[\"Age\"].values[i] = 21\n",
        "    \n",
        "    elif perCountry[\"Age\"].values[i] == \"Under 18 years old\": \n",
        "        perCountry[\"Age\"].values[i] = 16\n",
        "    \n",
        "    elif perCountry[\"Age\"].values[i] == \"45 - 54 years old\": \n",
        "        perCountry[\"Age\"].values[i] = 50\n",
        "        \n",
        "    elif perCountry[\"Age\"].values[i] == \"65 years or older\": \n",
        "        perCountry[\"Age\"].values[i] = 70\n",
        "        \n",
        "    elif perCountry[\"Age\"].values[i] == \"55 - 64 years old\": \n",
        "        perCountry[\"Age\"].values[i] = 60\n",
        "\n",
        "ageValue = perCountry[\"Age\"].values\n",
        "perCountry[\"Age\"] = pd.to_numeric(perCountry[\"Age\"])\n",
        "perCountry = perCountry.groupby([\"Country\", \"Age\"]).mean()\n",
        "perCountry"
      ],
      "execution_count": 0,
      "outputs": [
        {
          "output_type": "execute_result",
          "data": {
            "text/html": [
              "<div>\n",
              "<style scoped>\n",
              "    .dataframe tbody tr th:only-of-type {\n",
              "        vertical-align: middle;\n",
              "    }\n",
              "\n",
              "    .dataframe tbody tr th {\n",
              "        vertical-align: top;\n",
              "    }\n",
              "\n",
              "    .dataframe thead th {\n",
              "        text-align: right;\n",
              "    }\n",
              "</style>\n",
              "<table border=\"1\" class=\"dataframe\">\n",
              "  <thead>\n",
              "    <tr style=\"text-align: right;\">\n",
              "      <th></th>\n",
              "      <th></th>\n",
              "      <th>ConvertedSalary</th>\n",
              "    </tr>\n",
              "    <tr>\n",
              "      <th>Country</th>\n",
              "      <th>Age</th>\n",
              "      <th></th>\n",
              "    </tr>\n",
              "  </thead>\n",
              "  <tbody>\n",
              "    <tr>\n",
              "      <th rowspan=\"7\" valign=\"top\">Australia</th>\n",
              "      <th>16</th>\n",
              "      <td>14106.300000</td>\n",
              "    </tr>\n",
              "    <tr>\n",
              "      <th>21</th>\n",
              "      <td>101635.056497</td>\n",
              "    </tr>\n",
              "    <tr>\n",
              "      <th>30</th>\n",
              "      <td>115867.522682</td>\n",
              "    </tr>\n",
              "    <tr>\n",
              "      <th>40</th>\n",
              "      <td>144277.140127</td>\n",
              "    </tr>\n",
              "    <tr>\n",
              "      <th>50</th>\n",
              "      <td>140422.867347</td>\n",
              "    </tr>\n",
              "    <tr>\n",
              "      <th>60</th>\n",
              "      <td>273023.285714</td>\n",
              "    </tr>\n",
              "    <tr>\n",
              "      <th>70</th>\n",
              "      <td>119960.000000</td>\n",
              "    </tr>\n",
              "    <tr>\n",
              "      <th rowspan=\"6\" valign=\"top\">Brazil</th>\n",
              "      <th>16</th>\n",
              "      <td>2500.800000</td>\n",
              "    </tr>\n",
              "    <tr>\n",
              "      <th>21</th>\n",
              "      <td>36777.967105</td>\n",
              "    </tr>\n",
              "    <tr>\n",
              "      <th>30</th>\n",
              "      <td>57034.840502</td>\n",
              "    </tr>\n",
              "    <tr>\n",
              "      <th>40</th>\n",
              "      <td>73789.032051</td>\n",
              "    </tr>\n",
              "    <tr>\n",
              "      <th>50</th>\n",
              "      <td>119184.375000</td>\n",
              "    </tr>\n",
              "    <tr>\n",
              "      <th>60</th>\n",
              "      <td>131004.000000</td>\n",
              "    </tr>\n",
              "    <tr>\n",
              "      <th rowspan=\"7\" valign=\"top\">Canada</th>\n",
              "      <th>16</th>\n",
              "      <td>60556.050000</td>\n",
              "    </tr>\n",
              "    <tr>\n",
              "      <th>21</th>\n",
              "      <td>84314.201201</td>\n",
              "    </tr>\n",
              "    <tr>\n",
              "      <th>30</th>\n",
              "      <td>95174.658562</td>\n",
              "    </tr>\n",
              "    <tr>\n",
              "      <th>40</th>\n",
              "      <td>111708.002294</td>\n",
              "    </tr>\n",
              "    <tr>\n",
              "      <th>50</th>\n",
              "      <td>126511.024793</td>\n",
              "    </tr>\n",
              "    <tr>\n",
              "      <th>60</th>\n",
              "      <td>139803.484848</td>\n",
              "    </tr>\n",
              "    <tr>\n",
              "      <th>70</th>\n",
              "      <td>68241.750000</td>\n",
              "    </tr>\n",
              "    <tr>\n",
              "      <th rowspan=\"7\" valign=\"top\">France</th>\n",
              "      <th>16</th>\n",
              "      <td>15060.000000</td>\n",
              "    </tr>\n",
              "    <tr>\n",
              "      <th>21</th>\n",
              "      <td>50982.409524</td>\n",
              "    </tr>\n",
              "    <tr>\n",
              "      <th>30</th>\n",
              "      <td>88670.397078</td>\n",
              "    </tr>\n",
              "    <tr>\n",
              "      <th>40</th>\n",
              "      <td>126978.149123</td>\n",
              "    </tr>\n",
              "    <tr>\n",
              "      <th>50</th>\n",
              "      <td>128735.312500</td>\n",
              "    </tr>\n",
              "    <tr>\n",
              "      <th>60</th>\n",
              "      <td>166628.357143</td>\n",
              "    </tr>\n",
              "    <tr>\n",
              "      <th>70</th>\n",
              "      <td>12239.000000</td>\n",
              "    </tr>\n",
              "    <tr>\n",
              "      <th rowspan=\"3\" valign=\"top\">Germany</th>\n",
              "      <th>16</th>\n",
              "      <td>4892.676471</td>\n",
              "    </tr>\n",
              "    <tr>\n",
              "      <th>21</th>\n",
              "      <td>45250.967742</td>\n",
              "    </tr>\n",
              "    <tr>\n",
              "      <th>30</th>\n",
              "      <td>91645.706554</td>\n",
              "    </tr>\n",
              "    <tr>\n",
              "      <th>...</th>\n",
              "      <th>...</th>\n",
              "      <td>...</td>\n",
              "    </tr>\n",
              "    <tr>\n",
              "      <th rowspan=\"4\" valign=\"top\">India</th>\n",
              "      <th>30</th>\n",
              "      <td>28766.059158</td>\n",
              "    </tr>\n",
              "    <tr>\n",
              "      <th>40</th>\n",
              "      <td>61454.656805</td>\n",
              "    </tr>\n",
              "    <tr>\n",
              "      <th>50</th>\n",
              "      <td>113685.230769</td>\n",
              "    </tr>\n",
              "    <tr>\n",
              "      <th>70</th>\n",
              "      <td>3150.000000</td>\n",
              "    </tr>\n",
              "    <tr>\n",
              "      <th rowspan=\"6\" valign=\"top\">Netherlands</th>\n",
              "      <th>16</th>\n",
              "      <td>6774.571429</td>\n",
              "    </tr>\n",
              "    <tr>\n",
              "      <th>21</th>\n",
              "      <td>43469.183168</td>\n",
              "    </tr>\n",
              "    <tr>\n",
              "      <th>30</th>\n",
              "      <td>84742.959488</td>\n",
              "    </tr>\n",
              "    <tr>\n",
              "      <th>40</th>\n",
              "      <td>115401.087179</td>\n",
              "    </tr>\n",
              "    <tr>\n",
              "      <th>50</th>\n",
              "      <td>95634.176471</td>\n",
              "    </tr>\n",
              "    <tr>\n",
              "      <th>60</th>\n",
              "      <td>127951.409091</td>\n",
              "    </tr>\n",
              "    <tr>\n",
              "      <th rowspan=\"6\" valign=\"top\">Russian Federation</th>\n",
              "      <th>16</th>\n",
              "      <td>11890.294118</td>\n",
              "    </tr>\n",
              "    <tr>\n",
              "      <th>21</th>\n",
              "      <td>15038.879725</td>\n",
              "    </tr>\n",
              "    <tr>\n",
              "      <th>30</th>\n",
              "      <td>27963.269795</td>\n",
              "    </tr>\n",
              "    <tr>\n",
              "      <th>40</th>\n",
              "      <td>33590.387597</td>\n",
              "    </tr>\n",
              "    <tr>\n",
              "      <th>50</th>\n",
              "      <td>106558.785714</td>\n",
              "    </tr>\n",
              "    <tr>\n",
              "      <th>60</th>\n",
              "      <td>40149.000000</td>\n",
              "    </tr>\n",
              "    <tr>\n",
              "      <th rowspan=\"7\" valign=\"top\">United Kingdom</th>\n",
              "      <th>16</th>\n",
              "      <td>31664.900000</td>\n",
              "    </tr>\n",
              "    <tr>\n",
              "      <th>21</th>\n",
              "      <td>87438.910714</td>\n",
              "    </tr>\n",
              "    <tr>\n",
              "      <th>30</th>\n",
              "      <td>122987.218821</td>\n",
              "    </tr>\n",
              "    <tr>\n",
              "      <th>40</th>\n",
              "      <td>159970.083138</td>\n",
              "    </tr>\n",
              "    <tr>\n",
              "      <th>50</th>\n",
              "      <td>173812.979167</td>\n",
              "    </tr>\n",
              "    <tr>\n",
              "      <th>60</th>\n",
              "      <td>174278.833333</td>\n",
              "    </tr>\n",
              "    <tr>\n",
              "      <th>70</th>\n",
              "      <td>58513.500000</td>\n",
              "    </tr>\n",
              "    <tr>\n",
              "      <th rowspan=\"7\" valign=\"top\">United States</th>\n",
              "      <th>16</th>\n",
              "      <td>31117.177778</td>\n",
              "    </tr>\n",
              "    <tr>\n",
              "      <th>21</th>\n",
              "      <td>125874.454689</td>\n",
              "    </tr>\n",
              "    <tr>\n",
              "      <th>30</th>\n",
              "      <td>152934.767374</td>\n",
              "    </tr>\n",
              "    <tr>\n",
              "      <th>40</th>\n",
              "      <td>162993.784863</td>\n",
              "    </tr>\n",
              "    <tr>\n",
              "      <th>50</th>\n",
              "      <td>173545.390716</td>\n",
              "    </tr>\n",
              "    <tr>\n",
              "      <th>60</th>\n",
              "      <td>209511.514469</td>\n",
              "    </tr>\n",
              "    <tr>\n",
              "      <th>70</th>\n",
              "      <td>160852.941176</td>\n",
              "    </tr>\n",
              "  </tbody>\n",
              "</table>\n",
              "<p>66 rows × 1 columns</p>\n",
              "</div>"
            ],
            "text/plain": [
              "                        ConvertedSalary\n",
              "Country            Age                 \n",
              "Australia          16      14106.300000\n",
              "                   21     101635.056497\n",
              "                   30     115867.522682\n",
              "                   40     144277.140127\n",
              "                   50     140422.867347\n",
              "                   60     273023.285714\n",
              "                   70     119960.000000\n",
              "Brazil             16       2500.800000\n",
              "                   21      36777.967105\n",
              "                   30      57034.840502\n",
              "                   40      73789.032051\n",
              "                   50     119184.375000\n",
              "                   60     131004.000000\n",
              "Canada             16      60556.050000\n",
              "                   21      84314.201201\n",
              "                   30      95174.658562\n",
              "                   40     111708.002294\n",
              "                   50     126511.024793\n",
              "                   60     139803.484848\n",
              "                   70      68241.750000\n",
              "France             16      15060.000000\n",
              "                   21      50982.409524\n",
              "                   30      88670.397078\n",
              "                   40     126978.149123\n",
              "                   50     128735.312500\n",
              "                   60     166628.357143\n",
              "                   70      12239.000000\n",
              "Germany            16       4892.676471\n",
              "                   21      45250.967742\n",
              "                   30      91645.706554\n",
              "...                                 ...\n",
              "India              30      28766.059158\n",
              "                   40      61454.656805\n",
              "                   50     113685.230769\n",
              "                   70       3150.000000\n",
              "Netherlands        16       6774.571429\n",
              "                   21      43469.183168\n",
              "                   30      84742.959488\n",
              "                   40     115401.087179\n",
              "                   50      95634.176471\n",
              "                   60     127951.409091\n",
              "Russian Federation 16      11890.294118\n",
              "                   21      15038.879725\n",
              "                   30      27963.269795\n",
              "                   40      33590.387597\n",
              "                   50     106558.785714\n",
              "                   60      40149.000000\n",
              "United Kingdom     16      31664.900000\n",
              "                   21      87438.910714\n",
              "                   30     122987.218821\n",
              "                   40     159970.083138\n",
              "                   50     173812.979167\n",
              "                   60     174278.833333\n",
              "                   70      58513.500000\n",
              "United States      16      31117.177778\n",
              "                   21     125874.454689\n",
              "                   30     152934.767374\n",
              "                   40     162993.784863\n",
              "                   50     173545.390716\n",
              "                   60     209511.514469\n",
              "                   70     160852.941176\n",
              "\n",
              "[66 rows x 1 columns]"
            ]
          },
          "metadata": {
            "tags": []
          },
          "execution_count": 55
        }
      ]
    },
    {
      "cell_type": "code",
      "metadata": {
        "id": "9NDZTlL_pG80",
        "colab_type": "code",
        "outputId": "513c5414-0fda-4402-d5b6-f9f16be4d815",
        "colab": {
          "base_uri": "https://localhost:8080/",
          "height": 539
        }
      },
      "source": [
        "figure(num=None, figsize=(12, 7), dpi=80, facecolor='w', edgecolor='k')\n",
        "ageList = []\n",
        "for i in countryList:\n",
        "    ageAndMoney = []\n",
        "    ages = []\n",
        "    for j in [16, 21, 30, 40, 50, 60, 70]:\n",
        "        try:\n",
        "            ageAndMoney.append(perCountry.loc[i].loc[j].ConvertedSalary)\n",
        "            ages.append(j)\n",
        "        except:\n",
        "            pass\n",
        "    ageList.append(ages)\n",
        "    ageList.append(ageAndMoney) \n",
        "for i in range(len(countryList)):\n",
        "    plt.plot(ageList[2*i], ageList[2*i + 1], label = countryList[i])\n",
        "plt.title(\"Średnie zarobki od wieku dla kraju\")\n",
        "plt.ylabel(\"Zarobki\")\n",
        "plt.xlabel(\"Wiek\")\n",
        "plt.legend()\n",
        "plt.grid(True)\n",
        "plt.figure(figsize=(200,100))\n"
      ],
      "execution_count": 0,
      "outputs": [
        {
          "output_type": "execute_result",
          "data": {
            "text/plain": [
              "<Figure size 14400x7200 with 0 Axes>"
            ]
          },
          "metadata": {
            "tags": []
          },
          "execution_count": 56
        },
        {
          "output_type": "display_data",
          "data": {
            "image/png": "[encoded data removed]",
            "text/plain": [
              "<Figure size 960x560 with 1 Axes>"
            ]
          },
          "metadata": {
            "tags": []
          }
        },
        {
          "output_type": "display_data",
          "data": {
            "text/plain": [
              "<Figure size 14400x7200 with 0 Axes>"
            ]
          },
          "metadata": {
            "tags": []
          }
        }
      ]
    }
  ]
}